{
 "cells": [
  {
   "cell_type": "markdown",
   "metadata": {
    "slideshow": {
     "slide_type": "slide"
    }
   },
   "source": [
    "# MNIST digits classification with TensorFlow"
   ]
  },
  {
   "cell_type": "markdown",
   "metadata": {},
   "source": [
    "<img src=\"images/mnist_sample.png\" style=\"width:30%\">"
   ]
  },
  {
   "cell_type": "code",
   "execution_count": 1,
   "metadata": {},
   "outputs": [
    {
     "name": "stdout",
     "output_type": "stream",
     "text": [
      "We're using TF 1.2.1\n"
     ]
    },
    {
     "name": "stderr",
     "output_type": "stream",
     "text": [
      "Using TensorFlow backend.\n"
     ]
    }
   ],
   "source": [
    "import numpy as np\n",
    "from sklearn.metrics import accuracy_score\n",
    "from matplotlib import pyplot as plt\n",
    "%matplotlib inline\n",
    "import tensorflow as tf\n",
    "print(\"We're using TF\", tf.__version__)\n",
    "\n",
    "import sys\n",
    "sys.path.append(\"../..\")\n",
    "import grading\n",
    "\n",
    "import matplotlib_utils\n",
    "from importlib import reload\n",
    "reload(matplotlib_utils)\n",
    "\n",
    "import grading_utils\n",
    "reload(grading_utils)\n",
    "\n",
    "import keras_utils\n",
    "from keras_utils import reset_tf_session"
   ]
  },
  {
   "cell_type": "markdown",
   "metadata": {},
   "source": [
    "# Fill in your Coursera token and email\n",
    "To successfully submit your answers to our grader, please fill in your Coursera submission token and email"
   ]
  },
  {
   "cell_type": "code",
   "execution_count": 2,
   "metadata": {
    "collapsed": true
   },
   "outputs": [],
   "source": [
    "grader = grading.Grader(assignment_key=\"XtD7ho3TEeiHQBLWejjYAA\", \n",
    "                        all_parts=[\"9XaAS\", \"vmogZ\", \"RMv95\", \"i8bgs\", \"rE763\"])"
   ]
  },
  {
   "cell_type": "code",
   "execution_count": 29,
   "metadata": {
    "collapsed": true
   },
   "outputs": [],
   "source": [
    "# token expires every 30 min\n",
    "COURSERA_TOKEN = 'wXhXYdSzet94h7nf' #\"### YOUR TOKEN HERE ###\"\n",
    "COURSERA_EMAIL = 'mvolosnikova@gmail.com' #\"### YOUR EMAIL HERE ###\""
   ]
  },
  {
   "cell_type": "markdown",
   "metadata": {},
   "source": [
    "# Look at the data\n",
    "\n",
    "In this task we have 50000 28x28 images of digits from 0 to 9.\n",
    "We will train a classifier on this data."
   ]
  },
  {
   "cell_type": "code",
   "execution_count": 4,
   "metadata": {},
   "outputs": [
    {
     "name": "stdout",
     "output_type": "stream",
     "text": [
      "Downloading data from https://s3.amazonaws.com/img-datasets/mnist.npz\n",
      " 7766016/11490434 [===================>..........] - ETA: 0s"
     ]
    }
   ],
   "source": [
    "import preprocessed_mnist\n",
    "X_train, y_train, X_val, y_val, X_test, y_test = preprocessed_mnist.load_dataset()"
   ]
  },
  {
   "cell_type": "code",
   "execution_count": 5,
   "metadata": {},
   "outputs": [
    {
     "name": "stdout",
     "output_type": "stream",
     "text": [
      "X_train [shape (50000, 28, 28)] sample patch:\n",
      " [[ 0.          0.29803922  0.96470588  0.98823529  0.43921569]\n",
      " [ 0.          0.33333333  0.98823529  0.90196078  0.09803922]\n",
      " [ 0.          0.33333333  0.98823529  0.8745098   0.        ]\n",
      " [ 0.          0.33333333  0.98823529  0.56862745  0.        ]\n",
      " [ 0.          0.3372549   0.99215686  0.88235294  0.        ]]\n",
      "A closeup of a sample patch:\n"
     ]
    },
    {
     "data": {
      "image/png": "[encoded data removed]",
      "text/plain": [
       "<matplotlib.figure.Figure at 0x7feb5c371c50>"
      ]
     },
     "metadata": {},
     "output_type": "display_data"
    },
    {
     "name": "stdout",
     "output_type": "stream",
     "text": [
      "And the whole sample:\n"
     ]
    },
    {
     "data": {
      "image/png": "[encoded data removed]",
      "text/plain": [
       "<matplotlib.figure.Figure at 0x7feb40f3d8d0>"
      ]
     },
     "metadata": {},
     "output_type": "display_data"
    },
    {
     "name": "stdout",
     "output_type": "stream",
     "text": [
      "y_train [shape (50000,)] 10 samples:\n",
      " [5 0 4 1 9 2 1 3 1 4]\n"
     ]
    }
   ],
   "source": [
    "# X contains rgb values divided by 255\n",
    "print(\"X_train [shape %s] sample patch:\\n\" % (str(X_train.shape)), X_train[1, 15:20, 5:10])\n",
    "print(\"A closeup of a sample patch:\")\n",
    "plt.imshow(X_train[1, 15:20, 5:10], cmap=\"Greys\")\n",
    "plt.show()\n",
    "print(\"And the whole sample:\")\n",
    "plt.imshow(X_train[1], cmap=\"Greys\")\n",
    "plt.show()\n",
    "print(\"y_train [shape %s] 10 samples:\\n\" % (str(y_train.shape)), y_train[:10])"
   ]
  },
  {
   "cell_type": "markdown",
   "metadata": {},
   "source": [
    "# Linear model\n",
    "\n",
    "Your task is to train a linear classifier $\\vec{x} \\rightarrow y$ with SGD using TensorFlow.\n",
    "\n",
    "You will need to calculate a logit (a linear transformation) $z_k$ for each class: \n",
    "$$z_k = \\vec{x} \\cdot \\vec{w_k} + b_k \\quad k = 0..9$$\n",
    "\n",
    "And transform logits $z_k$ to valid probabilities $p_k$ with softmax: \n",
    "$$p_k = \\frac{e^{z_k}}{\\sum_{i=0}^{9}{e^{z_i}}} \\quad k = 0..9$$\n",
    "\n",
    "We will use a cross-entropy loss to train our multi-class classifier:\n",
    "$$\\text{cross-entropy}(y, p) = -\\sum_{k=0}^{9}{\\log(p_k)[y = k]}$$ \n",
    "\n",
    "where \n",
    "$$\n",
    "[x]=\\begin{cases}\n",
    "       1, \\quad \\text{if $x$ is true} \\\\\n",
    "       0, \\quad \\text{otherwise}\n",
    "    \\end{cases}\n",
    "$$\n",
    "\n",
    "Cross-entropy minimization pushes $p_k$ close to 1 when $y = k$, which is what we want.\n",
    "\n",
    "Here's the plan:\n",
    "* Flatten the images (28x28 -> 784) with `X_train.reshape((X_train.shape[0], -1))` to simplify our linear model implementation\n",
    "* Use a matrix placeholder for flattened `X_train`\n",
    "* Convert `y_train` to one-hot encoded vectors that are needed for cross-entropy\n",
    "* Use a shared variable `W` for all weights (a column $\\vec{w_k}$ per class) and `b` for all biases.\n",
    "* Aim for ~0.93 validation accuracy"
   ]
  },
  {
   "cell_type": "code",
   "execution_count": 6,
   "metadata": {},
   "outputs": [
    {
     "name": "stdout",
     "output_type": "stream",
     "text": [
      "(50000, 784)\n",
      "(10000, 784)\n"
     ]
    }
   ],
   "source": [
    "X_train_flat = X_train.reshape((X_train.shape[0], -1))\n",
    "print(X_train_flat.shape)\n",
    "\n",
    "X_val_flat = X_val.reshape((X_val.shape[0], -1))\n",
    "print(X_val_flat.shape)"
   ]
  },
  {
   "cell_type": "code",
   "execution_count": 7,
   "metadata": {},
   "outputs": [
    {
     "name": "stdout",
     "output_type": "stream",
     "text": [
      "(50000, 10)\n",
      "[[ 0.  0.  0.  0.  0.  1.  0.  0.  0.  0.]\n",
      " [ 1.  0.  0.  0.  0.  0.  0.  0.  0.  0.]\n",
      " [ 0.  0.  0.  0.  1.  0.  0.  0.  0.  0.]] [5 0 4]\n"
     ]
    }
   ],
   "source": [
    "import keras\n",
    "\n",
    "y_train_oh = keras.utils.to_categorical(y_train, 10)\n",
    "y_val_oh = keras.utils.to_categorical(y_val, 10)\n",
    "\n",
    "print(y_train_oh.shape)\n",
    "print(y_train_oh[:3], y_train[:3])"
   ]
  },
  {
   "cell_type": "code",
   "execution_count": 8,
   "metadata": {
    "collapsed": true
   },
   "outputs": [],
   "source": [
    "# run this again if you remake your graph\n",
    "s = reset_tf_session()"
   ]
  },
  {
   "cell_type": "code",
   "execution_count": 9,
   "metadata": {
    "collapsed": true
   },
   "outputs": [],
   "source": [
    "# Model parameters: W and b\n",
    "# 784*10\n",
    "W = tf.get_variable(name='W', shape=(784, 10), dtype='float32')\n",
    "### YOUR CODE HERE ### tf.get_variable(...) with shape[0] = 784\n",
    "# 10*1\n",
    "b = tf.get_variable(name='b', shape=(10), dtype='float32')#tf.get_variable(name=\"b\", shape=(10, 1), dtype=tf.float32)\n",
    "### YOUR CODE HERE ### tf.get_variable(...)"
   ]
  },
  {
   "cell_type": "code",
   "execution_count": 10,
   "metadata": {
    "collapsed": true
   },
   "outputs": [],
   "source": [
    "# Placeholders for the input data\n",
    "# 50000 (None) * 784\n",
    "input_X = tf.placeholder('float32', shape=(None, 784))\n",
    "### YOUR CODE HERE ### tf.placeholder(...) for flat X with shape[0] = None for any batch size\n",
    "# 50000 (None) * 10\n",
    "input_y = tf.placeholder('float32', shape=(None, 10))\n",
    "### YOUR CODE HERE ### tf.placeholder(...) for one-hot encoded true labels"
   ]
  },
  {
   "cell_type": "code",
   "execution_count": 18,
   "metadata": {
    "collapsed": true
   },
   "outputs": [],
   "source": [
    "# Compute predictions\n",
    "logits = tf.matmul(input_X, W) + b### YOUR CODE HERE ### logits for input_X, resulting shape should be [input_X.shape[0], 10]\n",
    "probas = tf.nn.softmax(logits)### YOUR CODE HERE ### apply tf.nn.softmax to logits\n",
    "classes = tf.argmax(probas, axis=1) ### YOUR CODE HERE ### apply tf.argmax to find a class index with highest probability\n",
    "\n",
    "# Loss should be a scalar number: average loss over all the objects with tf.reduce_mean().\n",
    "# Use tf.nn.softmax_cross_entropy_with_logits on top of one-hot encoded input_y and logits.\n",
    "# It is identical to calculating cross-entropy on top of probas, but is more numerically friendly (read the docs).\n",
    "loss = tf.reduce_mean(tf.nn.softmax_cross_entropy_with_logits(logits=logits, labels=input_y))\n",
    "### YOUR CODE HERE ### cross-entropy loss\n",
    "\n",
    "# Use a default tf.train.AdamOptimizer to get an SGD step\n",
    "step = tf.train.AdamOptimizer().minimize(loss) ### YOUR CODE HERE ### optimizer step that minimizes the loss"
   ]
  },
  {
   "cell_type": "code",
   "execution_count": 28,
   "metadata": {
    "scrolled": false
   },
   "outputs": [
    {
     "data": {
      "text/html": [
       "<img src=\"data:image/jpeg;base64,/9j/4AAQSkZJRgABAQAAAQABAAD/2wBDAAIBAQEBAQIBAQECAgICAgQDAgICAgUEBAMEBgUGBgYFBgYGBwkIBgcJBwYGCAsICQoKCgoKBggLDAsKDAkKCgr/2wBDAQICAgICAgUDAwUKBwYHCgoKCgoKCgoKCgoKCgoKCgoKCgoKCgoKCgoKCgoKCgoKCgoKCgoKCgoKCgoKCgoKCgr/wAARCAEgA2ADASIAAhEBAxEB/8QAHwAAAQUBAQEBAQEAAAAAAAAAAAECAwQFBgcICQoL/8QAtRAAAgEDAwIEAwUFBAQAAAF9AQIDAAQRBRIhMUEGE1FhByJxFDKBkaEII0KxwRVS0fAkM2JyggkKFhcYGRolJicoKSo0NTY3ODk6Q0RFRkdISUpTVFVWV1hZWmNkZWZnaGlqc3R1dnd4eXqDhIWGh4iJipKTlJWWl5iZmqKjpKWmp6ipqrKztLW2t7i5usLDxMXGx8jJytLT1NXW19jZ2uHi4%2BTl5ufo6erx8vP09fb3%2BPn6/8QAHwEAAwEBAQEBAQEBAQAAAAAAAAECAwQFBgcICQoL/8QAtREAAgECBAQDBAcFBAQAAQJ3AAECAxEEBSExBhJBUQdhcRMiMoEIFEKRobHBCSMzUvAVYnLRChYkNOEl8RcYGRomJygpKjU2Nzg5OkNERUZHSElKU1RVVldYWVpjZGVmZ2hpanN0dXZ3eHl6goOEhYaHiImKkpOUlZaXmJmaoqOkpaanqKmqsrO0tba3uLm6wsPExcbHyMnK0tPU1dbX2Nna4uPk5ebn6Onq8vP09fb3%2BPn6/9oADAMBAAIRAxEAPwD9/KKKKACiiigAooooAKKKKACiiigAooooAKKKKACiiigAooooAKKKKACiiigAooooAKKKKACiiigAooooAKKKKACiiigAooooAKKKKACiiigAooooAKKKKACiiigAooooAKKKKACiiigAooooAKKKKACiiigAooooAKKKKACiiigAooooAKKKKACiiigAooooAKKKKACiiigAooooAKKKKACiiigAooooAKKKKACiiigAooooAKKKKACiiigAooooAKKKKACiiigAooooAKKKKACiiigAooooAKKKKACiiigAooooAKKKKACiiigAooooAKKKKACiiigAooooAKKKKACiiigAooooAKKKKACvPfjt%2B1J8FP2b5NGsfil4g1Maj4ilnTQNB8OeF9R1zVNR8lVed4bHTbee5kjiVkMkixlI96biu5c%2BhV4N%2B0P8D/j5/wANJ%2BDv2tv2bLLwfrWueH/B2seFNX8KeOdcutLtLywv7mwuxcQXtraXj288U2noCpt3WVJSCUKK1ABpf/BTL9izWLvxPb2nxXv0h8FWsk/jLUrvwXrEFjoIS0iu9l5dy2iwWsrQzRskMjrJIWKorMrKL2n/APBQ/wDZK1HwBrXxFTx/q9vB4f1ay0vVdE1DwNrNrrkV5ebfscC6PNaLqEr3AYGER27eaAxTcFYjy2b9gH4y%2BMf2a/jn8NfGHinwppHin4o/FS38daHc6U1xeWFpeW0OiywQ3IkihkkiN3pRRwoyYHGDuJVaPi79i/8AaV%2BLmr/Ef45fG34S/CjWvFnjWx8KaPp/gKy%2BI2s2Wm6fY6Hcaldw3qa7b6al5DqDXOqTOksVoPJSKNFZiWcgHsviH9vv9mzwv4a8OeI9XvvG3meK0v5NE8P2vwm8SXGuSRWUscV3NJpMWntf28MLzQq8s0CIpmiy37xM%2Bmaz8RPBHhv4e3XxX8T%2BJbbSvDljo76rf6vqrfZYbSySIzPPMZdvlKsYLNvxtAOcYNfGHin9hH9s/WPgX4X8Nay3hfxV470a58RHRfGV/wDHbxNpGr%2BCLW%2BuUktLO11q1sJLzXIYkjhEy3qw/aTbReYCFGPUfjR/wTotfj1%2Bzb4n%2BHHxD%2BOfjW78d%2BMPhfH4Z17xS3jbWho818tpDE2oJoS3y2FuzzQLK3kRRSEPIBIrSM5AOkg/4KUfsZf8K58V/FbWPite6Jo3giysr7xQ/ifwdq%2Bk3NlZXkxhtb37LeWsVxJaSyK6pcxxtC3luQ%2BEYjj/AI3f8FZP2d/hn8ENU%2BMfgPRfFXiqbQfiD4X8L674Y/4QXXbHU7A6zqVrax3T2cmnNdeV5Fw88DeT5d48aW8MhknjB8r1T/gmJ8ZPHfwq8faR4i8DeG9G8Y%2BI9D0fR7DxDqv7RfjPxut3aWusW%2BoTRyf27AfsEZ8likUSzHe%2BGkxknv8A9qH9gz40/GD4g/F/4g%2BBfEPheOTxfB8LbzwlZ6tfXMSvf%2BE/EdzrUsN40dvJ5ENwGt4VljEzrl2MfyKrgHqFh/wUE/Zb1H4m2XwZh8T%2BJo/Fd5oun6xLoF38N9egudO0%2B9adILu/SSyU6dDut5VeS68pYiFEhQum6j4a/wCCmH7FPi3wZ4s%2BIWkfGC4TR/Bfgi68Zaxe6h4S1W0Fx4et0Z5tWsVntUbVLNVQ4nsxPGxZArEugbB0P9kP4ofEP4mfG74g/G9fD2gxfGj4O%2BHfCF1Y%2BE9duNRl0u4tE11Ltlnns7XzYwNViMT7FZikm6OPA3fN37Y37Kn7UOj/ALDHxS%2BJv7TF34AtIfhD%2BxT8QfBHhePwFqF5cNrzXukWxn1G6W5toBYqE0i3CWcbXAVppCZ22oKAPrPw9/wUl/Yy8TaHrHiPT/i1dQWehppU1/JqnhLVbJmtNSu1s7HUIUuLVGubCWdgovoQ9qoDO0qorMPT9E%2BLvw88R/FLX/gvofiH7T4k8LaXp%2Boa/YR2k22zgvmuBa7pinlF3%2ByzHy1cyKoRmVVkjLfJOofsz%2BIPFegeKfjb/wAFIvF/wz8J%2BBbf9nu5%2BHUlx4f8QTLay6beyQyXmq3k17BbpYOTBbCG2QzCAmT/AEiQsuOw/wCCPngP4u2f7I9r8f8A9pDUDf8AxJ%2BL15H4n8V6g9nJbtJCLSCy01fKl%2BeH/iX2lpI0TYKSzTZAYtkA%2BqqKKKACiiigAooooAKKKKACiiigAooooAKKKKACiiigAooooAKKKKACiiigAooooAKKKKACiiigAooooAKKKKACiiigAooooAK8R0j/AIKMfse6ld69Z6n8Urzw83hzw5c%2BINQk8a%2BEdV0GObSbd0jnv7WTUrWBb63R5IlaW2MqAyxjOXXPtN7FczWcsNndCCZ4mWKYx7/LYjhtp64POO9fmJq//BHL9uX4v6t4X1z43fHHQ31vw14P1Cz1DxRqHxW8TeJx4h1v7ZpV9a6idLvoobLSbaS50xfPsLIBRHJtWWQKgUA%2B2X/b/wD2YbX4aN8WNY8QeKtK0ttcg0axs9c%2BGWv2GqanfzIZIYLLTbixS9v2kQM6/Z4ZAyo7AkIxHReA/wBqz4H/ABH1%2By8J%2BHPEOqQ6vf8AhSfxJDpGteFdS0y7TTYbv7JLLLDeW8UkDrP8hhkVZe%2BzbzXk3xO%2BDn7bvxib4e/G3XPBvwq0P4h/Cjx1NrHh/wAM2vjjUr/Rdcs7jSbvTLmO4vn0qGaxmKXskkbpa3AjMQU%2BYJGxV%2BJPwG/bg1/4y%2BHf2mvA%2BjfCu08WX3ww1XwX4x0LUvFepSWGkLcX8N1a39lcJpwk1AxCN1kt5YrQSlxiWLHIB3Gk/wDBRv8AZA8R694F8LeFfiNqus6n8SfBuleLfBunaJ4H1m9nvND1F9lrqMiQWjNa2%2B7HmSTiNbcMpm8oMCdj4a/tufs3fFf4jXPwn8M%2BL9Ws9ft9LudThsvE/gzVtEW/sbeRI57uyl1G1gjv4I3liDy2zSIvmISQGUnyj9hT9hL4sfsw6/8ADjWfHniDw1dnwd%2Byl4R%2BGN%2B%2BkXM8rNq2lvM1zNF5kEe61bemxmKu235o0wK8a%2BGn/BKv9sbxP8UfC/ib9qb4w2eqRaf4A8V%2BF/GniaD4v%2BJNavPEUur2KW39p2umX0Men6EcqWNpaKUXKgTOI1WgD6l8J/8ABRf9kfxrosfirQfHeuf2Hcarpen6f4lvfh/rdrpWoy6lex2VlJaX09mlteQS3M0UYuIJHhBlQs4VgT6X4W%2BLvw88a/EDxT8LvC/iH7XrnguSzj8T2iWkwWxkuoPtEEZlZBG7tCVkKIzMiyRlgokTd8w%2BOPAnxF8K/wDBPbxp8CP%2BChnif4VeCPAWg/DSLQLb4meHfFt2GadI0trXUntLqzgTTZlmFvJDBHcXTGcoiOTtDdr/AMEr/h98WPDf7ImlfFX9oqwS3%2BJ3xYvpfHXxEhW3aL7Pf36xmG02N8yfZbGOys9pyQLXBoA%2BjaKKKACiiigAooooAKKKKACiiigAooooAKKKKACiiigAooooAKKKKACiiigAooooAKKKKACiiigAooooAKKKKACiiigAooooAKK574r%2BPb74YfDzU/Hmm/DzXvFc%2BmwrInh7wyLU315l1UrF9rnghBAYsTJKihVY54wcHwd%2B0DpnxH/Zo8PftOfDr4d%2BJdbsfFPhLTtf0Pw1Zw2q6pcQ3sEU0MJWW4S3SULKu7dOI1IYmTA3UAd/Xi/x68f/ALRf/DRfgX4EfAXxn4K8Ppr/AIK8S69q%2Bp%2BL/Bd3rRJ0670O3hhhjt9SsfLDf2pKzMzPny0AC8k9X8Af2gND%2BP2k6/LaeC9e8M6x4T8RvoXinwz4mjthe6XfLbW92sbtaTz28ge2u7aZXimkUrMvIYMo4j4i60tn/wAFKvhDosijF78E/iGyN33R6t4NOPyZj%2BFJtLcuEJVHaPZv7tWXv%2BEH/wCChf8A0dB8Gf8Aww%2Brf/NRR/wg/wDwUL/6Og%2BDP/hh9W/%2BaivZqKZB4z/wg/8AwUL/AOjoPgz/AOGH1b/5qKP%2BEH/4KF/9HQfBn/ww%2Brf/ADUV7NRQB4z/AMIP/wAFC/8Ao6D4M/8Ahh9W/wDmoo/4Qf8A4KF/9HQfBn/ww%2Brf/NRXs1FAHjP/AAg//BQv/o6D4M/%2BGH1b/wCaij/hB/8AgoX/ANHQfBn/AMMPq3/zUV7NRQB4z/wg/wDwUL/6Og%2BDP/hh9W/%2Baij/AIQf/goX/wBHQfBn/wAMPq3/AM1FezUUAeM/8IP/AMFC/wDo6D4M/wDhh9W/%2Baij/hB/%2BChf/R0HwZ/8MPq3/wA1FezUUAeM/wDCD/8ABQv/AKOg%2BDP/AIYfVv8A5qKP%2BEH/AOChf/R0HwZ/8MPq3/zUV7NXmHjP4r/s0fCi2h1L9oP4meBvDdxq%2Bp6gunzeM9as7NrxYLgowiNy67xGrRAhc7dy5xuGYnUp0o802ku7aS%2B9tL8TowuExeOrqhhqcqk3tGEZTk7K7tGMZSdlq7Rdlq9NTI/4Qf8A4KF/9HQfBn/ww%2Brf/NRR/wAIP/wUL/6Og%2BDP/hh9W/8Amoqv/wANf/8ABOD/AKOi%2BCP/AIW2j/8Ax2j/AIa//wCCcH/R0XwR/wDC20f/AOO1z/X8B/z%2Bh/4HD/5I9j/VLiz/AKF2I/8ACev/APKCx/wg/wDwUL/6Og%2BDP/hh9W/%2Baij/AIQf/goX/wBHQfBn/wAMPq3/AM1Fd34Gl%2BB/xQ8LWvjn4aSeFPEWiX2/7FrGhNbXdrcbHaN9ksW5H2ujIcE4ZSDyDXh4/b5/Y90bxL8SPD/xE8C6z4dj%2BHHxBtPCF1qN18MdUmttTv7qLTzbpayw2TJNJLNqEUKQxl5HAWVVMUsbt1RlGcVKLumeHWo1sPVlSqxcZRbTTTTTWjTTSaae6aTXVI7X/hB/%2BChf/R0HwZ/8MPq3/wA1FH/CD/8ABQv/AKOg%2BDP/AIYfVv8A5qKsaR8e/wBmLV/iHofwtl8KarpeseJLeKTQ08RfCzVtLtryR7I3wtVuryyig%2B1i2WSR7QyCePyZleNWikVeG8K/t9fsNarpnhNdf1PTIdS8UeEvDviAjR/Beq3unWVnrcjw6dPNfHToktYJp4pY0lu1tjlRvSMsFpmZ2P8Awg//AAUL/wCjoPgz/wCGH1b/AOaij/hB/wDgoX/0dB8Gf/DD6t/81Fdjrmt/ArQPBniLx9cQeHrjTPCkN3J4gnsbeCc2RtYzJPG4QHbIijJQ4YZHHNeX/srfHpvjn4ouvAvxZ/Zj0PwPrUngrR/F%2BiWdpq8eqrc6RqLXKRrM/wBkg8i8he2ZZ4FEsa%2BbEY55QW2gG/8A8IP/AMFC/wDo6D4M/wDhh9W/%2Baij/hB/%2BChf/R0HwZ/8MPq3/wA1FcX4J/as0fxb8bNO8Hz/ALNWh2vgjxN498ReCPBnjBdWjku9Q1/RY75r2Gew%2ByKttbltK1VI5hcSsxsvmjQSKa1Pgj8XPiP8ZvhJ451qH9knwRp/j7wZ4zuvDi%2BEm8Z%2Bbp13NCttJ5jaj/ZivEvl3GWAtZCDGQu/INAHQf8ACD/8FC/%2BjoPgz/4YfVv/AJqKP%2BEH/wCChf8A0dB8Gf8Aww%2Brf/NRXnWhftdXnxL%2BCHwN8bfBP9kzw3rPjT42/DePxrZeENY8Spp9ppWnrp9ndXQe/WwmaV0l1CztkAt1EjzBmMShiMrwJ%2B3/APDT4u/tB%2BBPhD8Nvhh8LrTS/HPwp8J%2BPNOuvHXj6PR9avbPW5tTX7Np%2Blrp0/26e2i00vIvnxDdcIhKgF6APWv%2BEH/4KF/9HQfBn/ww%2Brf/ADUUf8IP/wAFC/8Ao6D4M/8Ahh9W/wDmorzNf25/AOi%2BKrzXviD%2Bzto2k/DKXWfF%2BjeHvG0GpJcXt7qHhtb1tRSfT/siLbxMul6o0Ei3EpkWzyyR%2BalW/A/7UPirxD4a8XWvjj9ln4deDfFnhzwNo3jW2sPEnxBEWjHQNQe6UzXupjSybKe2FjdmeMQTRIVi2zushdAD0H/hB/8AgoX/ANHQfBn/AMMPq3/zUUf8IP8A8FC/%2BjoPgz/4YfVv/moryTwf%2B3FP8XfAPgu5%2BA/7JfhLxR4v8YReKb210tfGKQ6LdaXoN5DZ3Wo2Gqrp8hvoJ5ruxFq32eJZlugzNEqk1L8Pv2%2BPhj8Y/wBovwf8Hfhl8OPhZDo/jD4aeF/G2lX3jLx8mla3qVhrQvnVNP0ldOm%2B2yQQ2Qdx9ojGZ1BKgbiAerf8IP8A8FC/%2BjoPgz/4YfVv/moo/wCEH/4KF/8AR0HwZ/8ADD6t/wDNRXh9n/wUx%2BFUXxd%2BIHgDW/2e/Dj2fgDTPGF9q1hoPiCK%2B8Tafb%2BH3Ktcajo5tI/sFvfKokspftEvnpPbttUSnZ1vhD9qfxP4t8OeP/Ddp%2By18OpPiT4K8H6F4rg8K6f8QludLvdJ1VroW8kmpLpYeCVVsL1njW2lGEhKO6zKwAPQ/wDhB/8AgoX/ANHQfBn/AMMPq3/zUUf8IP8A8FC/%2BjoPgz/4YfVv/morgNd/axvNU%2BHfwr1f4L/sl%2BH/ABJ4s%2BJXwuufHzeGdS8RJp8GnaVa2%2BnSXMa3YsZjPcedqlnBDGYo1lLOzPEqGofFX7a3w%2B0fxR8Irvw98KPh7qnhf4zJoknhG3Hi9YvFl3BqXlH7XDoZsCs9rbJMk1xKt2PKhjmkK/uwrgHov/CD/wDBQv8A6Og%2BDP8A4YfVv/moo/4Qf/goX/0dB8Gf/DD6t/8ANRXlWn/8FAfg/qbfFnxlpvwz%2BHl74S%2BE2ieJdQ1Oz03xpb3Hi%2B6XRHmhuZRoS2mIbaSa2nSGZ7rdIBE/lhZQRFN%2B3HFo0%2Bp/DHxN%2BzN4CX4m2%2BteFbLTvD%2Bj%2BOkvNFki8QG5Gnz3Gqf2cj2w/wBBvAyLayklIfL83z0NAHrX/CD/APBQv/o6D4M/%2BGH1b/5qKoeB/HH7Vng79qzw58Efjd8R/h74m0bxN8PfEOuQzeFfh5faLdWl1pt9oluis9xq98ksbpqkpKhEYNEhDYyDc%2BBPxV8EftAfAbVviXpPgXR9F1nQ9W1zQ9atNJuo7uOw1bS7y4s7hYLpYojNH5tuXjkKRsyOhaONtyK/xx/ykL%2BF/wD2Rnx5/wCnbwhQB7NRRRQAV5P%2B25%2B0H8QP2Vf2bPEv7Qnw/wDhPpvjI%2BEtNuNU1rSNS8UtpAXT7eCWaeSOZbW5LygRhUi2AMX5dACa9Yryn9tr4BfEL9qX9mPxb%2Bzv8Ovifo3hCbxlo1zpGqa3rXhSXWFisriCSKURQRXtoVm%2BcFZGkZV2nMbZ4ANH9pX456t8DvC2iN4Q8EweJPE3izxVZ%2BHvCuiXmrGwtrm9nDyM09ysMzQQxQQ3EzusUrbYSFRmIFeK6n/wUj8eX3hS0Hw3/Zpt9a8Xado/i3UvHnhm68bfZItIi8OakNNvorW5%2BxyfbZprkn7Irx26SxqXlktuFPpHxS/Z5%2BN3xf8AAWh2/in41%2BF7bxp4S8Rab4g8LeI9J8A3Edjb6lbrJHP59lJqcjz288M08JiW4jdElOJSwDDzbU/%2BCbnj6w8KWh%2BG/wC0xbaL4v1HR/Fum%2BPPE914J%2B1xavF4j1IalfS2tqL2P7FNDcg/ZGeS4SKNiksdxwwAPp3wT4w0H4heDNI8feFroz6ZrmmW%2BoadOUKmSCaNZI2wemVYHFeCfCbxV%2B3f8ddH17x34X%2BN/wAJNA0u3%2BIXirQ9L0q/%2BD%2BqX9xFa6Xr1/pkLS3CeIoFlkeOzV2ZYo13OQFAAr2eP4NfDCT4SWvwJ1nwRpur%2BEbXRYNJ/sHW7KO8tprOGNY0iljlDLIoVF4YHOK8d/Yc8L%2BGvBv7KV74H8HeH7LSNGsfjT440%2Bx0nS7VLe2trQePNWiEEccYCxxiP5AqgALwBigDo/8AhB/%2BChf/AEdB8Gf/AAw%2Brf8AzUUf8IP/AMFC/wDo6D4M/wDhh9W/%2Bain6/8AtQf8E/fCmu3vhbxT%2B0R8HNN1PTbuS11HTtQ8XaVDPazxsUkikjeUMjqwKsrAEEEEZFVP%2BGv/APgnB/0dF8Ef/C20f/47XK8dgU7OrD/wOP8A8ke9DhXimpBThl%2BIaaTTVCu009U01QaaaaaabTTTTaaZY/4Qf/goX/0dB8Gf/DD6t/8ANRR/wg//AAUL/wCjoPgz/wCGH1b/AOain6B%2B1B/wT98V67ZeFvC37RHwc1LU9Su47XTtO0/xbpU091PIwSOKONJSzuzEKqqCSSABk1e/ar%2BJfwq/ZQ/Zv8a/tJeKfhcuraf4K8PXGq3Wm6RogmuLlYlzsRY42IycZcjai5dyqqzDWlXoV03TmpW7NP8AJs8/HZXmeVzjDG4epScldKpCdNtbXSnCDavpdJq%2Bl76Gd/wg/wDwUL/6Og%2BDP/hh9W/%2Baij/AIQf/goX/wBHQfBn/wAMPq3/AM1FUNJ/az/Y/wBc8by/DXS/DWvy%2BIbbw4uvahov/CmtdW60%2BweO7eKW6jbTw1q0v2G5WKOYJJM8YjjV3dFZ2mftOfsweJpPDv8AwiumWCHWfHU3hW9sPEvhLUdH1Gxvo9GutXMLWVzYCZJTa26zKtwtvG8MnmLKzGKObU4S7/wg/wDwUL/6Og%2BDP/hh9W/%2Baij/AIQf/goX/wBHQfBn/wAMPq3/AM1FUPgp%2B1/%2Bwv8AtBaNN4j%2BG3ibS/7Oi8P6frqX/iLwjd6LBc6XfMy2t7BJqNtAtzbyOpQSxF1D4QkMQKu/tG/ERvhXr/g/4afCD4AeGvF3jPxte3iaVpetaqukWMFrZ2rXFzcz3SWd06AfuYlVYXLSXEediB3UAd/wg/8AwUL/AOjoPgz/AOGH1b/5qKP%2BEH/4KF/9HQfBn/ww%2Brf/ADUVz%2BvftR/Cm2/Yn0D9sjw18FrO6j8UW2gJpPh7UhBaGC%2B1a%2BtLCC3u7gJItvHFc3aLPMFkEaRyOFcKAeKtf21zr2p23wi8Ifsy%2BArv4nxePdX8K67ot144EOg2Fzp2mQapMV1UaY8szNa3loVj%2Bxq4Z5g4QQO1AHqv/CD/APBQv/o6D4M/%2BGH1b/5qKP8AhB/%2BChf/AEdB8Gf/AAw%2Brf8AzUV5Bof/AAUY%2BB3xN1v4a6B8GvAfw0Nx4/8ABGieKpY/iF48tdAaK11SaeG1s7FUtLo6nfl7O9BhTZGPIUmYeamen%2BDn7Wngv4q/tI/Ej4K3ngD4R6Vp3w21a9s9TB%2BIST%2BJHht4IJftr6MNOXybVjPt8w3Lfc6EnAAO4/4Qf/goX/0dB8Gf/DD6t/8ANRR/wg//AAUL/wCjoPgz/wCGH1b/AOaiuc/Yk/aR8F/tmaBqHjrSPh58MrXRBa2lzplr4f8AHFvrOsWkdwryJDq9lHZxppdz5flsYBPcYYupYGPLe6eDBs0MwKTshvruKIE52olzIqr9AoAHsKAPLv8AhB/%2BChf/AEdB8Gf/AAw%2Brf8AzUUf8IP/AMFC/wDo6D4M/wDhh9W/%2BaivZqKAPGf%2BEH/4KF/9HQfBn/ww%2Brf/ADUUf8IP/wAFC/8Ao6D4M/8Ahh9W/wDmor2aigDxn/hB/wDgoX/0dB8Gf/DD6t/81FH/AAg//BQv/o6D4M/%2BGH1b/wCaivZqKAPGf%2BEH/wCChf8A0dB8Gf8Aww%2Brf/NRR/wg/wDwUL/6Og%2BDP/hh9W/%2BaivZqKAPGf8AhB/%2BChf/AEdB8Gf/AAw%2Brf8AzUUf8IP/AMFC/wDo6D4M/wDhh9W/%2BaivZqKAPGf%2BEH/4KF/9HQfBn/ww%2Brf/ADUUf8IP/wAFC/8Ao6D4M/8Ahh9W/wDmor2aigDxn/hB/wDgoX/0dB8Gf/DD6t/81FH/AAg//BQv/o6D4M/%2BGH1b/wCaivTvEnxE%2BH/g1S3i/wAc6PpQUZY6lqcUGB/wNhXBa7%2B3V%2BxP4Zdode/a8%2BGVrIv3oZfHVh5g/wCAebu/SsKmJw1H%2BJUjH1kl%2BbR6eDyTO8xV8JhatX/BSqT/APSKcjO/4Qf/AIKF/wDR0HwZ/wDDD6t/81FH/CD/APBQv/o6D4M/%2BGH1b/5qKw9b/wCCq/8AwTp0AE337Xng6THX7FfNc/8AolWzXL3X/BbX/gl9aTGCX9qa2LL1MXhbV3X81tCDXJPOcopu0sRTX/b8f8z6LD%2BGviLi43o5Ni5Lyw1b/wCVo9E/4Qf/AIKF/wDR0HwZ/wDDD6t/81FH/CD/APBQv/o6D4M/%2BGH1b/5qK86h/wCC2/8AwS9nban7U1uD/t%2BFdXX%2BdoKv2n/BZT/gmbenEP7V2kLn/nrpN/H/AOhW4qVneTPbE0//AAOP%2BZrPwv8AEumveyTFr/uWrf8AyB23/CD/APBQv/o6D4M/%2BGH1b/5qKP8AhB/%2BChf/AEdB8Gf/AAw%2Brf8AzUVzUX/BWz/gnBMAyftb%2BFxn%2B%2B0y/wA46g1b/gr9/wAE2NFi868/az8POMZxaW91cH8ooWNW84ylK7xFP/wOP/yRhHw58QpS5Vk%2BKv8A9g9b/wCVnWf8IP8A8FC/%2BjoPgz/4YfVv/moo/wCEH/4KF/8AR0HwZ/8ADD6t/wDNRXmT/wDBbT/gnxfuYvBHxE8SeKJAceX4f8BarKSfQb7dAfzpp/4KuL4oPkfBv9gb9oTxS5%2B5d/8ACAfYbIn0M80o2/itZf27k7%2BGtGX%2BG8v/AEmMjt/4hV4jR1rZZVpLvV5KKXq61Wlb7vken/8ACD/8FC/%2BjoPgz/4YfVv/AJqKt/srfEb40%2BMNY%2BKHgT46a/4X1bVPAPxCi0Oz1Xwn4audJt7q1l0HR9TVnt7i9vGWRZNRlQsJdpWNDtU5z5L/AMNe/wDBTnxVz4H/AOCVX9nQP/q73xV8XdNhI/3oEQuPzrov%2BCdesfGXX9b%2BPOr/ALQPg7SfD/i6b4zQHVtH0PUDdWttjwj4bEQSUgFyYRGzejMwHArow2YUcXUcacZbXu4Sivvkl%2BR4%2Bd8I5nw/hVXxdWg7vl5aeJoVprRu7jRnUaStZtvRtLqfSdFFFdx8uFFFFABRRRQAUUUUAFFFFABRRRQAUUUUAFFFFABRRRQAUUUUAc98Vx8QW%2BHOsRfCvw7o2reIJbNo9N0/xBrkum2crsQp825htrp4gFLEFYZMkAYAO4eH/Aj4dft2/BL9gbw78A9A8G/Ci3%2BI3gv4XWPh7w7qM3jjUrzR59Rs7aK0huJ/%2BJVDMIWSMzsiqWDYiBIPnD6RooA8h/Yl%2BD3xA%2BCHwXbwf8VPC%2BjWXiKfWbi/1vVtL8Yz67L4gu5wjz6ld3M2nWBW4llLjyUh8qKOOJIyqKsUfj3xW8GeHfh3/wAFjPgR4j0jVPEEt34z%2BGvxHTUIdV8W6jfWsbRS%2BGZVFrbXM8kFkp2kstskSvhdwbauPr%2Bvjf8AbC1c6X/wWN/YzgLYW%2B8MfFC3Y/8Abhozgfmgrmxc/Z0ebzj%2BMor9T3OHsP8AW8z9l/07rP8A8BoVpf8Atp9kUUUV0nhhRRRQAUUUUAFFFFABRRRQAUUUUAFefeIfgH8CvjjpNt/wur4LeEvGH9l6rqf9mf8ACU%2BHLXUPsnmXb%2BZ5Xnxt5e7y4923G7Yuc4Feg14j8c/25/2Wf2LtJ0j/AIaX%2BKP/AAjX/CS6rrH9i/8AEkvrz7T9nu/33/HrBLs2%2BfF97Gd3GcHHPip4WnQcsS4qHXmty76Xvpv%2BI45rLJX9cjXdBw%2B2pum430%2BOMoNXvbSSve2t7Gr/AMMD/sK/9GWfCX/w3Omf/GKP%2BGB/2Ff%2BjLPhL/4bnTP/AIxXkn/D83/gll/0dF/5ZOuf/IVH/D83/gll/wBHRf8Alk65/wDIVeP9e4V/5%2BUP/Kf%2BRp/xFLE/9D2f/hZV/wDmg%2BnvA3gHwJ8L/C1r4G%2BGngrSfDuiWO/7Fo%2BhabFaWtvvdpH2RRKqJud2c4AyzEnkmvCfE37C/ivX/iX4p8QQfGfTYPDPiX4weG/iKdEk8ISSXttqWlx6TE8AvPtojeCaPSY8D7OHieZm3yKoSvX/AIGfHP4WftKfCzS/jX8FPFP9teGda8/%2BzNT%2Bwz23neTPJBJ%2B7nRJFxLFIvzKM7cjIIJ5A/tnfDAeOh8MhoGvnxAfii/gU6SLWDzRfLpB1k3R/fYFodPxcCTO7Dquzedle5RlSlSjKlblaVrWtbpa2lu1tDN4p45/WXU9o5%2B9zNuTlfXm5m25X3u2297s8r8Q/wDBMeXxD%2B23p37X138UvDsjaX8RU8V2ou/h2k/iBVGivpZ0gay13mPTh5jXCW8dum2Qncz5JqDwV/wSyHg/4E6l8FR8dPtB1D4OeBPAf9qf8Ixs8v8A4Rua9l%2B2%2BX9pOftH2zHlbh5Xl53ybsCOP/grB8O/if4S1j/hRWmWyeJvDHxI%2BHuh%2BItI1nWtJ1WOLT/Efiq00Zp1l0TUrqFZhG19tjeVZIpYY2lhKOokg%2BMX/BUyLwJ%2Bz1438bfDb4W%2BI/Gnivwx4Z8a61OmneHbeGy0S10XVNR02G61CKTUhJJA9xYSKBaySXE6QTSrBBzHHoI%2Botd8ES%2BO/BniLwD8Srqz1HTNfgu7F4LGye2K6fPGYzC5aWTfJtZgZF2A5GEXHPkP7Ov7Inxb%2BCuq3fjXxh%2B0BpXizxNH4Q0LwjoWpy%2BCHs4LXRNNnmkPnQLfMZ764FzL5twrxRbkhZLZVRkk9h8A%2BNIfGWkJM9rdRXcNratfGTTLiCBpJbeOb9xJKoSdAJAC0bOFYMjEOrAfPX7Iv7Y3xs%2BMvj7wIfifpvhZfDfxl%2BGmq%2BOfh9BoOm3MF5otjZ3mmxraX8stzKl5LLb6vaS%2BbFHbqjwzIUYFGIBveBP2HNb8H/HHTPGV78YoL3wL4Y8f%2BIfHHg/wYnhoxXdjr2tJfLeyzX/2lluIAdV1Vo4RbxMpvfmkkEainfs%2B/s1/tZ/BPQ/iYdV/aT%2BHWsa5458TyeIdIvrf4Q39paaTfTJFHMJrc69K93CUgj2Is0DI24l3BCrz/iT9sb42aV8fdVlsdN8Lf8Kz8PfGXR/hrqeny6bcnWrm91CwsZl1KK6FyIY4Y7rUra3Ns1uzMkcsvnLlY64f9mn/AIKeeOvF3jrxBL%2B0Fb6JpfhrSvA2t%2BI7yKx8G6np9xpb2OqxWSWdpdXM8sPilZFlYG701FijlWGMgteQqADrfhn/AME//j98J/gP8G/A/hH9qfwzB46%2BCvgyXwdoHjL/AIVdO1le6BJZWdq0Nxp7asWNzu0%2Byn89blU8yD/UlGZDt6/%2BwZ4qu/hT4A/Ze8M/GHRNP%2BFHgWy8LW66ZceCZLnxDc/2FcW89uU1Q3ywwF3tIdzfY3kXdKUdWdWTE%2BFP7Un7WXxL/Zz8ffEPxna%2BGfA/ijwZ8SLvS7nTtP8AhprHjBrXTVht5Y7U2GmXsdzeXqfakjkmt28smKR1hCn5eKvf%2BCjH7Tnib4HWfxV%2BH3hLwNaXnhf4DS/FDx9YaraXN0urQLNcpDp1g0V3H/Z8syWF47ST/aTbMYonikYSMAD0Rf8Agm/BrXiq80H4g/FqPVvhlFrPi/WfD3gmDw6be9stQ8SLerqLz6h9pdbiJV1TVFgjW3iMa3gDPJ5SVqfCj9kX9oz4Xf2147b9p7w1rXxAvPC2g%2BF9I8Q6n8NJhp9to%2BlyXUiLPYx6or3F3M17cNLOlxChYRbIUWMq21pXxw%2BMp/bl0f4O6hfeFrn4e%2BLvhXqnifw7HbaJcxaxaT2N3otuwuLlrpoZY5P7TlIRbeNk8pMu2SK8f/Y5/bp/aa/ap8ear8OLqXwfoWoXvgW61zSpbz4earBDod3FqK2gt0e4v0j8VW21mLahpskFurJGCR9piAAOtsf%2BCfvxW8H2ej%2BOPhd%2B0zp2jfEmzv8AxZLqnie58BG50uWDxFdW93fwWumrfRtahLiysZYWa4lIeBjL55lfOr4g/YT8T3vgD4e/s4eGvi1oWmfCX4fDwn9h0RvBMk%2Bvyf2BPaz2irqpvhFErPZwBiLNpAhlCSKXVk5P4eftm/tISfA3xj4i8Tz%2BB/FPiy/%2BKureCvgw3h/wxeaVZ601gpt7q%2Bu4JdQu3Fvb3Vpq0sjRzDfa2IKfvJUB5jV/%2BCjH7Smo/s9aR8cPBfh7wRE/hb9l7RfjL8UNP1DSbuX%2B1Yr23uJzpmlst2n2JiunaiVnn%2B0hSbdSjAu4APS/h5%2BwR408EfFbT/GN/wDHbTdS0Lwv4g8W654M0xvBRj1CG91%2Ba4muF1C%2BN4w1C3iN1KEiSC3LBIDI8jRBjD8I/wDgn94i%2BCvhD4k6l8PPF3wy0Dx38Q9IsdJOoeFvg%2B2l%2BHNNsrV7pkVdHg1MSyzM1/fO8zXoZnmjz8kKxm7rP7ZnjnVf25vBvwB%2BG3h/R7nwDeXGp6T4q8R3kUzXM2tQ6YdQW1sisioq28YiE7skgZ7oRKUe3mFYE/7Uf7YOg/BX9pu7udA8JeJ/Hvwf8RvYeCLTwp4M1J4dRWTw9pOq28U1kt5LcXcyvqLxHyJIjKI12ohNAE2kfsEfH7w78JfhjoXhr9qjw5p/jr4bfDzUfAkXi63%2BGUxs77QbuOwRh9gfVWaK9RtLsZEuDcPGHSTMBSQoOk8Q/sV%2BONS8O%2BAvgZoHxj0XS/hL8Pr3wtc6R4ej8Fyya7/xIZrWe1iGqm/ESRvJZxCTFn5hieVBIu8MvBeN/wBtD49WfwO8JeLPhb4/0PxTqd38VpfDfxA1zTf2cvFUz%2BFLNNHvb3Fz4biv21OGfzorBC8siqI76OTy9rIx2/2j/wBoz9pTQPgP8P8A40fsxfHL4UeIR41uPDmjaNDe/DjULqHxHqWpXcMLXltJFrcRs7VYZJLloXW4kiitpcyORgAF3wD/AME9NR%2BHfxQtfE2hfFTRE8M%2BHfEHi7xB4L0BPA%2B26tdT8Qy3E159uvPtmL%2B1SS7nKW6Q25IEAeSQwqxo/D//AIJuW3w/%2BHnxB03T4/gy/iL4hx6VZ6nZx/AxYfB8enWEs0sNqdBTUt0zGS7vZWle8LGW4DY2xrHXQ%2BNf2jfjX8PP25PBHwCv9R0TVfDPjq9vI47RfhzqunS6Rbw6Xd3azDXZrt9P1K4M1qsZsIIo7kRXBnx5dtIzb37IPxd%2BOHxE8R/GDwB8e73wpd6r8OPihH4esL7who1zYW9xZTeHdE1iMyR3F1cMZUbVZImkDqriJWEaEkUAW/gR%2Bzd4d/ZT/ZivfhL4eu7W5YLq%2Bp6ldWOlR2FvLeXks1zN5FrGSttbo0vlwwBm8uGONNzlSxreOP8AlIX8L/8AsjPjz/07eEK9S8c/8iTrH/YKuP8A0W1eW%2BOP%2BUhfwv8A%2ByM%2BPP8A07eEKAPZqKKKACiiigAooooAK8F/Y/8A%2BTetX/7L345/9WBqte9V4L%2Bx/wD8m9av/wBl78c/%2BrA1WgDrNf8A2Jv2MvFeu3vinxT%2ByP8ADHUtT1K7kutR1HUPAOnTT3U8jF5JZJHhLO7MSzMxJJJJOTVT/hgf9hX/AKMs%2BEv/AIbnTP8A4xXnfj//AILKf8E3Phf471v4aeOv2jvsOt%2BHdXudM1iy/wCEQ1iX7PdW8rRSx747Rkfa6MNysVOMgkc1kf8AD83/AIJZf9HRf%2BWTrn/yFXgzxvDCm1KdG93e/s736303ve5p/wARNxND90s8nHl0t9bqq1tLW%2BsK1rWtZWtaytZezaB%2BxN%2Bxl4U12y8U%2BFv2R/hjpup6bdx3Wnajp/gHToZ7WeNg8csciQhkdWAZWUgggEHIrW/aa%2BCdl%2B0n%2Bzp47/Z71DX5dJh8b%2BEdQ0N9VggEr2f2q3eETBCQHKFw20kBtuMjOa8a8A/8FlP%2BCbnxQ8d6L8NPAv7R327W/EWr22maPZf8IhrEX2i6uJViij3yWiom53UbmYKM5JA5r3H46/GHw5%2Bz78HvEfxv8ZaZqN1o3hXSpdT1lNKhSSeKziG6eYK7oGWOMPKwznbG20M2FPoYGtltaEng5QaT15OW1/PlS1t3JlxJU4k/ezxrxPJpd1ZVeW%2BtryqVLX3smr726nkfiL9ib4heP9B%2BLsvj34%2B2sXiT4t/DvTfDN9rXhPwrNpsOmyWY1ELcxRSX08jI4vwGiMwOImxIPMGzhvgj/wAEpovhF4ih8TQ/EnwhYbfi4PHL6D4C%2BF8egaRAw8I3nhw2dtapeSmEN9qF20rPIzOjKR84dPRfjP8A8FEPg78FtL8Xa5qnhvU9QsfBXi2z8N6xqI8QaDpVo9/cabFqISG41fUrOGTZBPAGAffvmCor7JCnI2v/AAUd0nxT4%2Bjv/BNxaXHgLXPBnwk13wjqsWhST3l1/wAJh4g1bTSsyPdwrHGIrOzKsAXgaSZ2S5wsFdxJ1fwN/Yo8Q/AKPwJd%2BEfi5ZXN/wCBvgbpXw6t5dQ8Lu0N39jkgY3zRpdqy71hYCEOdhcHzG27W6z9o34BeOPip4g8H/Ez4P8AxP07wj4z8E3t4%2BlaprXhp9XsZ7W8tWt7m2ntUurV3B/cyqyzIVkt4870Lo3mHg3/AIKNH4mftFeD/BHhD4P%2BJrLwD4j8FeLNftPFmqaEs7eIYdJuNOhjn0uOyuZpzG/2qVvKnt0nmDQNChBOfSf2pPjR8QPh7o3gXwt8HE0iHxR8SfG9v4d0LUPE%2Blz3FlpubK81Ce5ntY5reWbba2FwFiEsRMjICyjNAFbwv%2By7rHw8/Zhsv2WvBPirw1f6JpfgW00GzPjjwY2rJe3CArcXN/Cl3BHdRTrjdbqIcMznzCrKiecaZ/wTXt/C37Pl98HfCk3wglvvEPjhvE/ic%2BJPgdFf%2BHxc/Y4rOEadoy6hElgYLe2s44maacgQMXEjSMw6XQP2tPilc/sG%2BN/2jn%2BG9prfjnwHD4v0%2B78PaHFOLbVtV0G/v9Pc26fvZlhnlsTKkYMsqpKEzI455D4B/tkfEv8AaF0X4k%2BD/An7THwf1DVfhzLpmo3PxP0fwRe3fhq90q7tJpWVbVdZVlmhkt7hHlW9kQeXyivvSMAreL/%2BCTnhpvCcPw6%2BFPxRtdD0PVPhLo3w48cS6x4UXUtT1LRtMubq4gls7pbiBbC9Z768Z5zFOhd4XWJWgSvTPGP7KfxA%2BLXx58O/Eb4yfFLw3qHhTwZquq3/AIW8M6H4GlsL4tfaddaa8V9qD38wuYhb3k5KRQW%2B%2BVYZGJMQB%2Bf0/wCClXx6034Q/B6H4k%2BIfBvhDxf8Qfhzqnj7xB4gf4Ua9rFjpmiRXNuLNW0ixvjc2zG2vYHubma78i1aCQP/AK1AvVeLf%2BCgnxf0j9tSy%2BB2iW3hq48LTeM9A0KB18K6jNFqdrqOlx3ragPEEdz/AGbYTK8jJFpc8bXVysUbxki7hIAPQP2QP2GNV/Zi8R6brGvfFTTtft/C3w10/wAA%2BC7TSPCI0k2%2BiWcpkiN832mYXt39wGVFt4hiQpAnmtXuXg//AJBM3/YVvv8A0rlrUrL8H/8AIJm/7Ct9/wClctAGpRRRQAUUV5B8cP2/P2Mv2ckmT4wftHeF9Mu7fPm6VDqAu74Edvstvvm9vuVjXxGHw0OetNRXdtJfi0ejlmT5tneKWGy7D1K9R/ZpwnOX3QjJ/N2Xmev0V8hj/gpB8fvjefs/7E37AXjnxPaS8Q%2BLvH0kfhzSSvaaIz5kuU9lCt7U5f2d/wDgqv8AHI/avjb%2B2t4Y%2BGNhLy/h34R%2BFvtEu09Ab6%2BPmxuB1KAgnpxivO/telV/3WnOr5qNo/8AgU%2BVfdc%2Bx/4h1jcBrnmNw%2BB7xqVVUrf%2BCMP7eon5TdPztrb6x1nWtG8O6ZNrXiDVraxs7dN9xd3k6xRRL6szEBR7k186/Er/AIK4/sCfDjWz4Ut/jnB4q1kkiPSfAmnT6zJIR1UPao8Wc8YLg1haT/wRz/Za1fUode/aD8YfEb4vahC/mJP8SfHN1dxrJ6iKIxJt7BWDDHHNfRXwx%2BC/wh%2BCui/8I78IPhf4f8L2OAGtdA0iG0R8d2ESjcfc5Jp82d19owpLzbqS%2B5ckfxYex8MMqXv1cTj59oRhhKX/AIFUeIrtekIHzeP%2BClPx28f/APJvP/BMT4x68jf6i78Yw23hq3m9GWS5Z8qfXA%2BlI/jj/gs58VcWvh/4HfB74U20v%2BtuvE/iW41y8gX/AKZrZgRM/wDvfLX1vRR/Z2LqfxsVN%2BUVCC/CMn%2BIv9csgwf/ACLshw0WtpVpYjEy%2BaqVadN/%2BC7eTWh8kR/8E%2Bf2ufiJm%2B/aA/4Kl/EyWeX79r8NbC08Nwwj%2B4piWRmx03kAnvT/APhzX%2BzLrXPxR%2BK3xg8cE/6xvFnxOvJjJ/veT5dfWlFH9h5W/jp8/wDilOX/AKVNr8Afinx3T0wuLWHXRUKVCgl6eyw8ZL/wN/fqfMfhv/gjX/wTR8LMHsP2VtKuHByX1TVr%2B9LH1Pn3Dg13uhf8E%2B/2FfDaKuk/sdfDJSv3ZJvBFjLIP%2BByRFv1r1%2Bit6eVZXR%2BChBf9uR/%2BRPLxnH3HeYu%2BKzbFT9cRX/SqjjdE/Z1/Z98NEN4c%2BBXg3Tyv3TZeGLSLH/fMYrqLXQ9FsYRbWWj2sMa/djit1VR%2BAFWqK64UqVNe7FL0SX5JHzuIx%2BPxcr1605v%2B9Ocv/SpSK02jaRcLtuNKtnHo8Cn%2BYqhd/D3wDfjF94H0ebPXztMib%2Ba1sUVThB7pfcZQxGIp/BOS9G1%2BTRy8vwP%2BCs5LT/CDws5PUv4ftj/AOyVPpPwi%2BFGgy%2BfoXww8PWT5zvtNFgjOfqqCuhoqVRop3UV9y/yN5ZlmUo8sq82u3PO33c9vwEREjQRxoFUDAVRgCloorQ4grxn9l//AJLf%2B0d/2Wax/wDUK8L17NXjP7L/APyW/wDaO/7LNY/%2BoV4XoA9mooooAKKKKACiiigAooooAKKKKACiiigAooooAKKKKACiiigAooooAKKwPil8TfCXwb8Baj8S/HT6kulaVGj3Z0jQrvU7khnWNRHa2cUs8zFmUbY42POcYBNZUX7Q3wal/Z/t/wBqVvHMEXgK68Kw%2BJIPENzbyxI2mS263Ec5jdBKC0TKRGUEmWC7d3FAHaV8J/8ABRjU/wCxf%2BCs/wCxDqe7Gbjxza5/67RaLFj/AMer6%2B%2BDPxz%2BGnx%2B8NXXir4ZarfTQ6fqcmnapZ6voV5pd9p92iI7QXNnfRQ3FtJ5ckUgWWNS0csbjKurH4g/4K6amdF/4KSfsOapuwP%2BE51e2J9pr/w9F/7NXm5vLky%2Bcuzj/wCl0z7Xw7ofWuMMPR/njXX34XF/5H6G0UUV6R8UFFFFABRRRQAUUUUAFFFFABRRRQAVleD/APkEzf8AYVvv/SuWtWsybwlo01xJcqbyFpXLyLa6lPCrMerbUcDJ7nHNAGnRWX/wh%2Bk/8/eq/wDg8u//AI7R/wAIfpP/AD96r/4PLv8A%2BO0AaleN%2BJf2Gfgr4t/ad1P9qnXbjW5dY1fwFN4VvdETUFTTGilO2S/EaoJFvjABbeeJOIVCBRyT6h/wh%2Bk/8/eq/wDg8u//AI7R/wAIfpP/AD96r/4PLv8A%2BO0AfPHgf/glr8JvCMbDWfjd8R/Ekq2/gS0spdbvdMX7FZ%2BEtb/tnSbWJLSwhjWP7QSkxKmSSMn51k/eU3x7/wAErfg54y8E614F0b4zfEfwvbeKNI8S6P4tufDmp6ek%2BtaZreqXup3FnM09lKESK41C68iSERTIkrKZH3MW%2Bif%2BEP0n/n71X/weXf8A8do/4Q/Sf%2BfvVf8AweXf/wAdoAZ4T8KzeE4ZbFPE%2BoX1psgjsbS9S32WMcUCRbIzFEjsGKGRjIzne7bSqbUXyP4T/sGeBvgvrV5rvgr4u%2BNxNbeF9S8O%2BAo7yfTpo/Amm31xHczwaWpssMvnQWjL9t%2B14Wygj5jUo3r/APwh%2Bk/8/eq/%2BDy7/wDjtH/CH6T/AM/eq/8Ag8u//jtAHlur/sQ/DjWfj2/xyn8c%2BKo7a58U2nijUvAsV1ajRb7XrWxSxt9TlU25ufOjghtwI1uFgL20UjRGRd5574df8Ez/ANnzwb9l0bxtqGs/EPwxo3hK68L%2BE/A/xCt9N1DR9A0W4urS5lsYYVs42uE32FiFe8e4kRbSMK4y%2B73P/hD9J/5%2B9V/8Hl3/APHaP%2BEP0n/n71X/AMHl3/8AHaAPF/h3/wAE7/g98AvC/iTw1%2Byb4l1P4PHxV40bxHqt78O/D%2BgwOWNv5AsViudNng%2ByKPnVDEXV8lZAGYHL8S/8EwPgdrvgfS/h7pXxB8c6Lp8XhW%2B8NeLDpeq2pl8Y6TfXTXd7a6k89tIT508lxIZbb7PMn2ucRyRrIVr3z/hD9J/5%2B9V/8Hl3/wDHaP8AhD9J/wCfvVf/AAeXf/x2gDzbXf2TZtb/AGrtD/auh/aK8d2E%2BgaBdaJY%2BCrK20P%2BxTYXL2ktzA2/TWvCJJbG2kLC5DKY8IyIzIcr9n39gzwB%2BzprWk6v4a%2BKvjbWI/Cngmfwf8PbDxBd2MkPhHQ5pbWR7Ky8m0ieVc2Ngu%2B7a5k22cS78b93r3/CH6T/AM/eq/8Ag8u//jtH/CH6T/z96r/4PLv/AOO0AeYWf7A37J9z%2Bzz4Q/Zl%2BInwX8PeO/DngjSY7LQ28faDZ6vcLIsXlves08JX7VLlnklVVLu7HAziuGH/AASg/Zw0z4TeFfgf4I8SeKfDHhjQPh3F4F1/SvDr6fBH4w0BX8x7PVAbNgfNke5eSW1FtKzX1184EzCvoj/hD9J/5%2B9V/wDB5d//AB2j/hD9J/5%2B9V/8Hl3/APHaAPKPEP8AwTu/Y28QftFeGv2qk/Z98I6f448Na1d6suu6Z4U06K51K9uIWiae7n%2BzmaaRCxkR94ZZAGyelQ/Dr9i7Xvhp4o%2BJnjHRv2xvincX/wAUNTj1PU5by08NY0u%2BjtbOziubMR6MgDJa2NvAEn86NlUsyNIxkPrv/CH6T/z96r/4PLv/AOO0f8IfpP8Az96r/wCDy7/%2BO0AeU6B%2Bxvf%2BDvCutad4J/ar%2BJek%2BI/FHis%2BIPFvjyCPQZtU1q5%2BwwWKRyx3GlSWUUSW1raxqtvbREfZ1OctIX0fC37GXwi8HWPwn0fRbvWv7P8Ag5Jc3HhbT7m/WWO4vZ7Kaya9umdC81wIrq7wwZRuu5WKn5dvov8Awh%2Bk/wDP3qv/AIPLv/47R/wh%2Bk/8/eq/%2BDy7/wDjtAHn2q/ssQeKfjZo3xh8efHLxvr9p4Z12bWvC3grUG0yPSdJv5LSe085Db2MV3NshurlUS4uJUUy7tuUjKQ/s8/so3X7P3xG8f8AxIb9o7x74xl%2BI%2BvR61rmmeK7fRFtob5LGz09JoP7P021lXFpp9pDtaR0Ii3FTIzO3o//AAh%2Bk/8AP3qv/g8u/wD47R/wh%2Bk/8/eq/wDg8u//AI7QAnjn/kSdY/7Bdx/6LavLvHH/ACkL%2BF//AGRnx5/6dvCFeonwZob4Wdr6ZMgmK41a5kRvZlaQqw9iCK8u8cf8pC/hf/2Rnx5/6dvCFAHs1FFFABXmP7R/x58W/CO98G%2BB/hd8OrDxV4w8eeIJdM0DStY8QvpVjGsFjc3txc3N1HbXLxRpFbFRsgkZpZYlwqlnT06vMP2kPgN4u%2BLl74N8c/C34i2HhXxh4D8QTanoGq6x4efVbGVZ7G5sri2ubWO5tXljeK5LjZPGyyxRNllDI4Bx2o/tzPf/ALNvw6%2BNPgH4Wrda98S/ENl4e0fwzr%2BviwttP1aUzLPBeXscM/lpC9rcR744ZTJIqIikyLXlPxb/AOCxOhfDT4XeHvHifDvwnHd6gfF9tq8fiX4ljTNOGq%2BHdQGn3ej6beixm/tLULmfzWs7fyoGuIoXc%2BWQUHren/sceI/Dv7J8f7K2k%2BLfAuv2FvZ2say/Ef4aNrdnfzeaZ76e%2Bslv4EuGnuGeZFRoVhZhxIFFefTf8Et9X8K/D7R/B/wX%2BN2haHcL4Q8VeH/FJ1r4cpqGnX0PiC%2Bjv7%2BaysYry3TT3WZCkKbpoUg2RPHKI0YAH1joOqPrmh2WtSaXdWLXlpHO1lfRhJrcuoby5FBIV1zgjJwQea8P/Y//AOTetX/7L145/wDVgarXqVn8Gfh43wcsvgP4r8O23iXw1a6Fb6Tcaf4nto76O/t4Y0jUXCSqUmJCAtuXBPOK8u/4J7%2BCfB/h39mPUfAHhvwvYaZoen/Fr4hWmnaRptqlvbWkEfjTWljiijjAWJECqFCgBdoxjFAHvVFZX/CH6T/z96p/4PLv/wCO0v8Awh%2Bk/wDP3qv/AIPLv/47QBqVU17QtH8UaHe%2BGfEWmxXmn6jaSWt9Z3Cbo54ZFKPGw7qykgj0NVv%2BEP0n/n71X/weXf8A8do/4Q/Sf%2BfvVf8AweXf/wAdoA%2BfvBP/AATB%2BFHw0%2BEfgP4YfDz41fEfStQ%2BH2t6nqml%2BOV1PT7nW7yW/SaK6F1Jc2UkEm6KbyldYUljSGIRum0k2PA3/BMT4B/D/wANeHvCuieLfGElt4a8NfDzQ7BrvUrZ5HtvBuq3eqaW0jfZxuklnvJVuG4DoqCMQsC7e8/8IfpP/P3qv/g8u/8A47R/wh%2Bk/wDP3qv/AIPLv/47QB4h8Nv%2BCd3gX4U/ETS/iB4S%2BOvxEVfC/hvXdC8B6FcXmmyWHhaz1Wa2mmS0Q2O%2BUxPaQeSbp7jYqbDuT5a9I%2BOfwD0T47%2BDdL8Oav4013RNU0DWrXWPD3izQHtV1HTNQgDKtzEJ4Jbdi0ck0TpJC8bxzSKUweOn/wCEP0n/AJ%2B9V/8AB5d//HaP%2BEP0n/n71X/weXf/AMdoA4z4Z/s4ad8IPhpa/C/4f/FDxTZWkGn6wLu%2BZrGW6v8AVNSuzeXGszPJasDei5kuZgEVbcteS74HAiEfMT/sL%2BB9a%2BDnxG%2BE/jr4seNvEV58WLVrTx1401K6sYtXvrQ262otUNraQ21vCLcNEEhgTHnSyf62RpD61/wh%2Bk/8/eq/%2BDy7/wDjtH/CH6T/AM/eq/8Ag8u//jtAHnP7QP7IHg/49Xem6ta/ETxR4I1HTvDmo%2BHW1LwS9jFLc6LffZzdae4u7W4RY2a1t2WSNUmiMf7uRNzhuatf%2BCdHwc0rx5F4h8O%2BOPF%2BmeGV8S6J4iuvhvaXtodEu9W0i0s7XT7xzJbNeK0UenaefLjuUhd7ON3jZi5f2v8A4Q/Sf%2BfvVf8AweXf/wAdqO58L6DZ28l3d6nqMUUSF5ZZNfulVFAySSZcAAd6BpNuyNisrwf/AMgmb/sKX3/pXLXzH8WP%2BClf7LnhjxTL8K/gFF4w%2BM3jgZVPDPwzv7y/SJs4zPdrJ5EKA8MwZymDlaxtN%2BAX/BST9rK1jX49fGK3%2BAngiQZTwL8LbsXOvSxnkrc6q2Vifk5MIZWz8y55ryp5vQlN08LF1pL%2BS3Kv8U37i%2B%2BT8j77DeHma0cPHF57Vhl9CSunX5lVmu9LDRTxFS/RuFKD/wCflj3b9ob9tz9lL9lS2L/Hn446HoVyU3R6S05uL%2BUHoUtYQ8zA%2BoTHPWvFZP8Agod%2B018fFOn/ALDn7B3izU7ef5bfxx8USNB0dAek6RsTNdx%2ByFW68cV6l%2Bzt/wAE7/2Qf2YLoa98Mvg7Yy6%2BzmSfxXrzNqOqzSn70n2mcsyFjyRHsUntXtlT7DN8T/Fqqku0FzS/8Dmrf%2BAwNf7V8O8jdsBgamOqL/l5ipulSv3WGoS5mvKrideq3R8fw/8ABOH45ftFyDW/%2BChX7X/iDxPDLyfh78O5n0Tw/AD1jcx4nuwOcO5RxnGTXsvwR/YM/Y3/AGc2hufg3%2Bzj4W0e8t8eTqh00XN8uP8Ap6n3zf8Aj9et0VtQynL6E/aKClP%2BaXvS/wDApXf3WXZI83NfEDi/NsM8JPFSpYf/AJ80bUKCXb2VH2cX6zdST%2B1KQUUUV6J8aFFFVNa17Q/Ddi2qeItatLC2T79xe3KxRr9WYgCk2krsTairst0V4z8Qv%2BCiX7CnwtjkPjT9rTwHBJF/rLW08RwXdwv1ht2eT/x2vMD/AMFn/wBkfXZGPwj8JfFD4gwKcfbPBfw3vriIn0BmWI/pXn1c3yujLlnXjftzJv7o8z/A8utnuS4eXLUxEE%2B3Mm/ujzP8D61or5KP/BWS3f8Af2v/AATk/aqmtv8An6j%2BEJ2n3ANzkj3oP/BW/wAMy/6Pp37BX7Tt1eHpYxfCN/N/HM4AH41n/bmVf8/f/JZ//KzH/WPJP%2Bf3/ktT/wCVH1rRXyV/w8f/AGjde/5EH/glZ8aLnP3P%2BEiS00nP18x220D9sT/gqDe/v9J/4JCSiA/cN78ddGhkP1QxZWj%2B2sC/h536U6j/APbEH%2BsOWv4OeXpSqv8A9xo%2BtaK%2BSv8Ahq7/AIKt3f7u3/4JOadZn/npd/HbSpF/JIs0H9qL/gq/oR%2B365/wTA0PVbY/et9E%2BMlgk8Q9f3seH%2Bi0f2xhf5Kn/gqp/wDI/oH9v4L/AJ91f/BNX/5H9D61or5KH/BR39pLTf8AR/FH/BKr4zQ3Cf61dK%2Bx30Y/3ZEdQ35Uf8PS/GOm/N4n/wCCZH7TECd3074fR3mPchJxR/beW9ZNesKi/wDcYf6xZQt5tetOqv8A3EfWtFfJX/D374VQfLq/7JH7Q%2BnuPvx3vwnnVl%2Bu2Q0f8PgPhJd/J4d/ZQ/aD1iXvBpvwonZwfT5pFGaP7cyn/n8vul/8gH%2BsmRf8/190/y9nf8AA%2BtaK%2BSv%2BHrOqSfPb/8ABM/9qlkP3Wf4UhSR9PtPFIf%2BCkf7RHi0%2BR8If%2BCVvxrvZugXxnBa%2BH03f78zuMe9H9t5Y9pt%2BkKjf/psP9Ysnfw1G/JU6rf3eyPravGf2X/%2BS3/tHf8AZZrH/wBQrwvXl4%2BM/wDwWQ8bjPhf9i74V%2BBw/wB0eNPiI%2BpGP/e/s9Rn8K6L/gnVH8dIta%2BPKftK3HhaXxt/wuaA62/gpLhdMyfCPhsxCAXP73Ah8oNu6uGI4xXRhsdDFT5Y05pd5QcV%2BOt/kdWEzKnjajjClUSte8oSgvRczTv5cp9KUUUV2nohRRRQAUUUUAFFFFABRRRQAUUUUAFFFFABRRRQAUUUUAFFFFAHOfFzWvEHh/4aa1qvhX4eav4r1FLFltPD2g3FlFd3jPhNsb31xb26kBix8yVBhTgk4U/LPgv4PftGeMP%2BCVPg39mDWf2dtd8L%2BOPBvw78LxNpfiLWtHe21DUtDlsJDYiexvrlQly1kVWRgFEcoMmxspX2TRQB4p%2ByH4K%2BJdp4r%2BLHxr%2BJvw4vvBs3xI8eW2qaX4U1W%2Bs7i9sbS10TTNMV7prGee386SSylkxFNIBE0ILbgyr8X/8ABY7wX4k8Iftsfs7/ABO1b4ueIdcs7fxBe6lYaHqttpyWmhiPXfCyFbZra0inYN5oybiWcjaNpX5s/p3X5y/8F6v9B1PwL4s6f2D4H1zUN393b4q8EJn/AMiV5Oe/8iau%2B0W/ucX%2Bh%2BgeFOviRlUP560Yf%2BDI1af/ALkP0aooor1j8/CiiigAooooAKKKKACiiigAooooAKKKKACiiigAooooAKKKKACiiigAooooAKKKKACiiigAooooAKKKKACiiigAooooAK8Z8cf8pC/hf/2Rnx5/6dvCFezV4z44/wCUhfwv/wCyM%2BPP/Tt4QoA9mooooAKKKKACiiigArxn9g//AJIhrn/ZZviP/wCprrdezV4z%2Bwf/AMkQ1z/ss3xH/wDU11ugD2aiiigAooooAKKKKACiiigAork/jX8dfhF%2Bzn8P7v4o/G3x9p/h3QrIfvb2/lxvcgkRxoAXlkODhEDMccA18qX/AMbv22v2/wCylk%2BANpdfAb4OtGWu/if4rtlTX9Ytv4nsLZiBaRMvInkIOCHRgQUrz8XmNDCzVJJzqPVQjq7d30jH%2B9Jpeux9bkHB2ZZ3hZY%2BrOGGwUHaeIrNxpJ7uMdHOrUtqqVGM57c3s17x6/%2B1N/wUJ%2BCn7M%2Bt2/wwsbXUfHPxJ1MBdE%2BG3g2D7Xqdw5GVMoXIto8cl5MHbllV8GvK7D9i/8Aaf8A25r2Hxn/AMFH/G39g%2BEDIJtO%2BBPgfU3jtAAcr/al7GQ93IOMpGwQEBlZclK5v4X/ALR3/BKz/gn21z8O/wBnO%2B1H4m/ELUyx1aTwPYyeJfEOvT5y5nvIx5ZJfkx%2BYihiSEBzXXx%2BM/8AgrV%2B1VIH8CeB/C/7OnhaY5j1bxUia74jkTs62Yxbw55zHNhhxgmvCniKeOnbEy9r/wBOqV5RX/Xyeik%2B6lKMP7si63iXwvwpJ4XgunOriVpLFuEZ179fYxvKjg49pOdTE23qU3ovpv4UfBf4SfArwrH4J%2BDfw30XwxpUWCLLRdPjt0dsY3vsALue7Nlj3Jrb1nXtC8OWT6n4h1q0sLaMEvcXtysSKB1JZiAK%2BUV/4JRy/EI/a/2pP24/jP8AEKRuZdNj8Tf2RpbH1Fpaj5T9Hq9o/wDwRP8A%2BCamm3i6pqH7PL6vdqQTc614s1S6Lf7yvc7D%2BK16sKuaqCjRw0YRWylNK3yhBpelz86xOacT5jiJYirQTnN3cqtZym2%2BsnGM236zb8zr/id/wVH/AOCe/wAIZXt/Gn7WfhBpoziSDRb5tUkQ%2BjJZLKyn2IzXCSf8Fov2SddQp8HfCHxQ%2BIdw/Fra%2BDfhvfSvcN2CeesQ598V738MP2W/2a/gpGifCP4B%2BD/DjIMefo/h22glb3aRUDsfckmu8q/ZZ3U%2BKrCH%2BGEpfjKS/Ix9hxFV%2BKvTh/hpyl%2BM5r/0k%2BRR%2B0x/wVQ%2BNp/4sR%2Bwr4c%2BHunSf8e%2BufGXxUTI49WsLEedER6MTT1/ZR/4KhfEc/bfit/wUosPCynn%2Bxvhx8ObYRIfa5um84jtgj3r63opf2UqmtetUn/29yL7oKP5sX9iKrricRVqf9v8kf8AwGmof%2BlM%2BSh/wTV%2BOmofvfEf/BUz47SyeumapbWa5/3ViIpT/wAEv/iLP%2B6vv%2BCn/wC0e0R%2B%2BIPGsMTn6MIMivrSin/YmW9YP/wOp/8ALB/6u5R1g3/3Eq//AC0%2BSj/wSE%2BHGp/L45/bK/aN8TRn/WQ678WZXR/YiOJOPxq1o/8AwRT/AOCcljfLq%2Bv/AAPvPEV6v/L34j8Xands31VrjYfxWvquihZHk97uhF%2Bqcv8A0pyGuHMhTu8NB/4k5f8Apcpnl3w%2B/Yi/Y6%2BFUkdz8PP2XfAWlXEWNl5beFbX7QMf9Nihc/i1eoRxxwxrFFGqooAVVGAB6AUtFehSoUKEeWlBRXkkvySPUoYbD4aPLRgortFJfkkFFFFamwUUUUAFFFFABRRRQAUUUUAFFFFABXjP7L//ACW/9o7/ALLNY/8AqFeF69mrxn9l/wD5Lf8AtHf9lmsf/UK8L0AezUUUUAFFFFABRRRQAUUUUAFFFFABRRRQAUUUUAFFFFABRRRQAUUUUAFFZvjPxj4V%2BHfg/VviB451%2B10rRNC02fUNY1S9lCQ2drDG0ks0jHhURFZiewBrk/hR%2B058FfjR4N1rx34K8U3UNh4buHh8Rp4k0K90W60p1t47n/SbXUYYJ4FNvLFMrOiq0ciupKkGgDvq/Pj/AILs6P8A254SlstmdnwH8XXGP%2BuXijwLLn/xyvsL4D/tWfA79pSbUbT4SeI9TuLnS7Kyvryy1rwtqOkXH2O8837JeRw6hbwvNbTeROI7iNWicwyBWJRgPmf/AIK76P8A25/aNltzs/Zd%2BJVxj/rlqXhCX/2SvOzeHtMpxEe8J/8ApMj7Lw6xP1TxByev/LisO/8AytS/zPsrwXrH/CQ%2BDtJ1/du%2B3aZBcbvXfGrf1rTrg/2WNY/4SH9mH4ca/v3fbvAej3G7132ULZ/Wu8rsoT9pQhPuk/vSf6nzeaYf6nmmIw/8lSpH/wABnOP/ALaFFFFanCFFFFABRRRQAUUUUAFFFFABRRRQAUUUUAFFFFABRRRQAUUUUAFFFFABRRRQAUUUUAFFFFABRRRQAUUUUAFFFFABXjPjj/lIX8L/APsjPjz/ANO3hCvZq8Z8cf8AKQv4X/8AZGfHn/p28IUAezUUUUAFeY/tH/Hnxb8I73wb4H%2BF3w6sPFXjDx54gl0zQNK1jxC%2BlWMawWNze3Fzc3UdtcvFGkVsVGyCRmlliXCqWdPTq8w/aQ%2BA3i74uXvg3xz8LfiLYeFfGHgPxBNqegarrHh59VsZVnsbmyuLa5tY7m1eWN4rkuNk8bLLFE2WUMjgHHaj%2B3M9/wDs2/Dr40%2BAfhat1r3xL8Q2Xh7R/DOv6%2BLC20/VpTMs8F5exwz%2BWkL2txHvjhlMkioiKTItcLrX/BVrwqnhTwhDoek/D%2Bw8V%2BI9T8S2GpWvjv4rR6JoOmz6Dqi6Tfouq/Y5muWe8eNbZFtg88bNIyxbGUd/p/7HHiPw7%2ByfH%2BytpPi3wLr9hb2drGsvxH%2BGja3Z383mme%2BnvrJb%2BBLhp7hnmRUaFYWYcSBRXCD/AIJa23g/wP4X0/4L/Erw3oviXRvDfi3Q9Y1fWfh1Hf2F7aeJL2G%2B1MW9hFd262e24gjFunmSRQwboWjmUggA%2BsbCa5uLGGe8gSKZ4laWOKXeqMRkgNgbgD3wM%2Bgrx79g/wD5Ihrn/ZZviP8A%2BprrddtoHwK%2BHGm/ArSv2dPEnh%2B38TeF9M8N2miS2Hii2jvkv7W3hSJftKSKUmJEalsrgnnFed/8E6fDHhrwV%2BzdfeD/AAb4esdI0jS/i38Q7TTNL0y0S3trSCPxnrSxxRRIAsaKoChVAAAAAoA90ooooAKKKKACiiquua7onhjRrrxF4l1i10/T7G3ee9v764WKG3iUZaR3YhUUAEkkgACk2krsTairstV8u/8ABQr/AIKmfBT9hXSD4WWW28SfEK9gDaZ4ThvliW2Vvu3F7KeLaHkYz875AUYyy%2BbfGD/gph8VP2sfFeofsyf8Em/C3/CTa5GPK8RfFnU4TFoXhyNiV8yN5FPnycOVO0g7CY0nGdu1%2Bx5/wRY%2BA/wM8RH40ftFazN8W/iVeXJvL7XvE6GW0huWO5pIoJC3mOG/5azF2yAyiM8V85isyx2Yt0MpSa2lVfwR7qP88vT3V1beh0ZRnGUUZrEPDvFNaxg3KnQfaVWqrVJw/wCneHXNUtZ16cbs%2BZvgz8WfEP7SHxBtv2j/ABf%2Bz38Qf2oPiLGTJ4WtrXQX0X4feFWPKpbSXwUSSAgZmljydoPLKJD9R6X%2BwB8ff2utSg8cf8FNvi%2BNR0pZVnsPgv4EupbPQLQg5UXcysJb6RfcgKwO12U4r7GREjQRxoFVRhVAwAPSlq8Jw9SpwtiajqX1ataMn3lq5Tf%2BOTS6RS0MuIcbnfGWLhWz7E%2B1hBctOhCEaOGpRvdQp0YOyiu0pS5n703Um3J8t8Kvgh8HPgZoI8L/AAa%2BF2geF7DA3W2haVFbLIR/E/lqC7f7TZJ7mupoor34QhTgowSSXRKy%2B5WMqdOnRgoU4pJbJJJL5JJfgFFFFUWFFFFABRRRQAUUUUAFFFFABRRRQAUUUUAFFFFABRRRQAUUUUAFFFFABRRRQAV4z%2By//wAlv/aO/wCyzWP/AKhXhevZq8Z/Zf8A%2BS3/ALR3/ZZrH/1CvC9AHs1FFFABRRRQAUUUUAFFFFABRRRQAUUUUAFFFFABRRRQAUUUUAFFFFAHmH7anwh8VfHz9kz4h/B3wK9qNb8QeFLy10eO%2BlKW810YyYopWAJWJ3Co7YOFZjg4wfK/Avgr9o3xhqnxs%2BJ2pfs/3PhDVvilosWl%2BGNC8X32k38OntY6Q8UVzqi2d3PG8dxdXEkYjgacmG3QyeXv2L9R0UAfIv8AwTT/AGa/iV8C/GXibWtd%2BEXi/wAGaDe%2BAfC2jR6f8QvHFv4i1S51TT/7QFzLb3MV5dmDTRHcW6w2vmxxo/ntHa229zLift0fDPxJ/wALr8Tzat8WvEOvWniL9lL4rJp2garbaclpov77wyClq1taRTuGLAn7RLORsXaV%2BbP2rXzp%2B0/o/wDwkP7VXhrQNm77d%2Bzp8Srfb6777wmuP1rDFQ9phakO8ZL74tfqepkWI%2Bp55hMR/JVpS/8AAatOX/tp0v8AwTq1f%2B3P2Cfg1fbslfhnosJPqYrOKM/qlezV84f8EidY/tz/AIJt/CS93Z2eG2t8/wDXK5mi/wDZK%2Bj658qn7TK6Eu8If%2BkxPX48w/1TjrNaH8uKxC/8r1f8wooorvPlAooooAKKKKACiiigAooooAKKKKACiiigAooooAKKKKACiiigAooooAKKKKACiiigAooooAKKKKACiiigAooooAK8Z8cf8pC/hf8A9kZ8ef8Ap28IV7NXjPjj/lIX8L/%2ByM%2BPP/Tt4QoA9mooooAKKKKACiiigArxn9g//kiGuf8AZZviP/6mut17NXjP7B//ACRDXP8Ass3xH/8AU11ugD2aiiigAoorw/8Ab0/a2m/ZS%2BElvJ4I0Nde%2BIfjDUE0T4b%2BFlG59S1SXCqzKCD5MW4O5yBjau5S4NYYnEUsJQlWqu0Yq7/yXdt2SXVtI58XiqGBw069Z2jFXf8Akl1bdkktW2ktzufj9%2B0f8Ef2XfAE/wATPjv8RNP8O6TDkRyXkmZbmQDPlQRLl5pCP4EBPfGATX5nat4x/az/AOC%2BHxVm8E%2BCBqXw5/Zz0DUlGrXrjE%2BqshDBJCPlnuSMMIQTFBlWcuwTfVt/2K/Ev7d/7UU3ws8ZfGLVfiHq/hySP/hd/wAXbhwNP0VydzeG/D8AHlRPuBWWYLldrcJl4pP1W%2BGnw08BfB3wJpfwy%2BGHhWz0XQdGtVt9N02xi2RwoP1ZicszHLMxLEkkmvllHHcS1XGr%2B7wsXZxT96o1vFyWnKtpKN03ePM7Nr6mpw/LIcFQxef008TViqlPBu0lShJJ06uM6SnNNTpYNe4o8tXFOadOhPE/Z5/Z0%2BD/AOyz8LrD4P8AwR8HW%2BjaLYLnZGN0tzKQA080h%2BaWVsDLtzwAMAADt6KK%2BtpUqdGmqdNJRWiS0SXkeJiMRXxdeVatJynJ3be7f9dkkkkkkkkiiiirMQooooAKKKKACiiigAooooAKKKKACiiigAooooAKKKKACiiigAooooAKKKKACiiigAooooAK8Z/Zf/5Lf%2B0d/wBlmsf/AFCvC9ezV4z%2By/8A8lv/AGjv%2ByzWP/qFeF6APZqKKKACiiigAooooAKKKKACiiigAooooAKKKKACiiigAooooAKKKKACis3xn4x8K/Dvwfq3xA8c6/a6VomhabPqGsapeyhIbO1hjaSWaRjwqIisxPYA1zfwT/aH%2BE/7Qmg6j4g%2BGOtahImj3/2LWLLXPD19pF9YTmGKdUntL%2BGG4h3QzRSqXjAeORXUlWBoA7avFviDbxXf/BQL4Z2s67kl%2BC3j1HX1B1XwgDXXfA/9pL4TftGWd7qvwi1DWr/T7NIZI9XvvCOp6fY6hDNv8qexubu3ih1CBhGxE1s8sZUo27DoW5Txx/ykL%2BF//ZGfHn/p28IUDTad0eaf8EQ7iUf8E1PAWi3LZm0m91uymz6pq94QPyYV9Y18l/8ABGr/AEH9l7xN4U6f2D8XfE2n7f7u29L4/wDIlfWleVkX/Ilw67QS%2B66/Q%2B%2B8Vkv%2BIl5xNfaxFSf/AIMcan/uQKKKK9U%2BACiiigAooooAKKKKACiiigAooooAKKKKACiiigAooooAKKKKACiiigAooooAKKKKACiiigAooooAKKKKACiiigArxnxx/wApC/hf/wBkZ8ef%2BnbwhXs1eM%2BOP%2BUhfwv/AOyM%2BPP/AE7eEKAPZqKKKACvMf2j/jz4t%2BEd74N8D/C74dWHirxh488QS6ZoGlax4hfSrGNYLG5vbi5ubqO2uXijSK2KjZBIzSyxLhVLOnp1eYftIfAbxd8XL3wb45%2BFvxFsPCvjDwH4gm1PQNV1jw8%2Bq2Mqz2NzZXFtc2sdzavLG8VyXGyeNlliibLKGRwDjtR/bme//Zt%2BHXxp8A/C1brXviX4hsvD2j%2BGdf18WFtp%2BrSmZZ4Ly9jhn8tIXtbiPfHDKZJFREUmRa434nf8FUPD/gL9kX/hoTQfhVH4i8VRa3ruk3fgbTPEymKKbQ76e01m4F95BzZwG2kKTmBfNae0jKRvcKq9vp/7HHiPw7%2ByfH%2BytpPi3wLr9hb2drGsvxH%2BGja3Z383mme%2BnvrJb%2BBLhp7hnmRUaFYWYcSBRXm3jf8A4Iy/ADxt%2BzLN8Ez4u1/R/Es2gaxp48X%2BGNd1TRrVH1TUJNRux/ZWnX1vbSWv2mUmO1k3rHHHDHuYRg0AfYleM/sH/wDJENc/7LN8R/8A1Ndbr0nVvhl4C8SfDw/Cjxl4YtvEXh2TTksbvS/E4OqJewIoULcG7MjXJO0FmlLsx%2BZiSSa8o/4J0%2BGPDXgr9m6%2B8H%2BDfD1jpGkaX8W/iHaaZpemWiW9taQR%2BM9aWOKKJAFjRVAUKoAAAAFAHulFFVNe17RfC2h3vibxJqtvY6dp1pJc397dShIreGNSzyOx4VVUEknoBSbSV2JtRV3sUfiF8QfBXwo8Eap8SPiN4ktdH0PRbN7rU9SvZNscESjJJPc9gBkkkAAkgV%2BTuhfFf4//APBST9sa/wDFvwbS40rxJq%2BmNYeFdWuYyYvhj4NkJWTUmAOBq2oKT5aghkjkyG2vG8V79t39o/4sf8FC9d8O6V8P/D1z/wAIP4g8QtpvwU8D3kRjk8cajEcTeINQjYfLpVoMuqOCrsBvBUSiP9D/ANir9j7wH%2Bxj8HIPh54ZlbUtav5Pt3jDxRdAm61zUnGZbiRjk7dxIRMnavqSzN8bWqVuJcwVGk3HD07Ny2cn0t20u4vdJ8%2BjdM%2Bn4ZwmDwGBo8XZnSVSHNL6hQmrxrVIPleNrRe%2BGw89KEGrYnELmf7mi%2Bfo/wBmz9nL4XfspfB7Sfgn8IdE%2ByaTpcXzyykNPeztzJczvgeZK7cs3ToAAqqB3dFFfX0qVOhTjTpq0UrJLZJHh47HYzM8bUxmLqOpVqScpyk7ylKTu22922/%2BGSSRRRRWhyhRRRQAUUUUAFFFFABRRRQAUUUUAFFFFABRRRQAUUUUAFFFFABRRRQAUUUUAFFFFABRRRQAUUUUAFeM/sv/APJb/wBo7/ss1j/6hXhevZq8Z/Zf/wCS3/tHf9lmsf8A1CvC9AHs1FFFABRRRQAUUUUAFFFFABRRRQAUUUUAFFFFABRRRQAUUUUAFFFFAHmH7anwh8VfHz9kz4h/B3wK9qNb8QeFLy10eO%2BlKW810YyYopWAJWJ3Co7YOFZjg4wfLPAXwu%2BNvxW1f41%2BKvH3wa1/4en4xaNDoWl2eoarpV1caJDa6Q8Avrs2V5NHvlnuZUjWB5jsto2k8ovtX6iooA%2BU/wDgnD8Hf2lPhDc3WhfE/wAOeM9A8M2PgDQNLOk%2BN/HUGutd%2BIrb7Sl/f6cYbq4FnYSRm1VIP9HXKZW0t9reZ0t/4L8SeHv%2BCm3gvxFq3xc8Q67Z6t8HvHD2Gg6rbaclpooXVvCWUtmtrSKdw%2B4Z%2B0Szn5BtK/Nn6Hrxnxx/ykL%2BF/8A2Rnx5/6dvCFAHmP/AASezpsH7RHhNuP7L/ae8VrCvpC5tnT%2BZr60r5L/AOCc3/Eq/aS/ap8J9PJ%2BMg1Db/19WaPn8dtfWleTkmmWQj2c191SofoHij73HGJq/wDPyOHn/wCB4TCP/MKKKK9Y/PwooooAKKKKACiiigAooooAKKKKACiiigAooooAKKKKACiiigAooooAKKKKACiiigAooooAKKKKACiiigAooooAK8Z8cf8AKQv4X/8AZGfHn/p28IV7NXjPjj/lIX8L/wDsjPjz/wBO3hCgD2aiiigAooooAKKKKACvGf2D/wDkiGuf9lm%2BI/8A6mut17NXjP7B/wDyRDXP%2ByzfEf8A9TXW6APZq%2BDv%2BCjvx20r9oTx5rH7HmmeK59L%2BGfgDS18SftH%2BLLCTDQ2EY82DQoXBGbi5ZRlQc4wBnbIh%2BmP25f2kbX9kz9lbxj8cSFk1DTNMMWgWpXcbnUpiIbWIL1YGZ0LAZO0Me1fDngL9mObxr4j%2BH//AATMmklvpUMHxM/ay16SUyS6nqErLNBpU8n8ZeUrleD5aJIOQ%2Bfmc/xVSdsFS1crXXfmdow9JNNzfSnCX8x2ZBkFLjLiaGU4mbp4KlB4jGVFvDDU3eUI/wB%2Bs0qUF1c0lu7e8/8ABMz9n7W/FN1P%2B3z8ZvCUGk694v0WDT/ht4TjQCHwb4SjA%2Bx2cK4AR5ECyOQBwRwpeRa%2Bw6bDDDbQpb28SxxxqFREXAUDgAAdBTq9rAYOngMMqUdXu31lJ7t%2Br%2B5JJaJHqcT8QVuJc3njJQVOmkoUqcfgo0YLlpUoL%2BWEEl3lJznK8pyYUUUV2Hz4UUUUAFFFFABRRRQAUUUUAFFFFABRRRQAUUUUAFFFFABRRRQAUUUUAFFFFABRRRQAUUUUAFFFFABRRRQAV4z%2By/8A8lv/AGjv%2ByzWP/qFeF69mrxn9l//AJLf%2B0d/2Wax/wDUK8L0AezUUUUAFFFFABRRRQAUUUUAFFFFABRRRQAUUUUAFFFFABRRRQAUUUUAFFR3t7Z6dZy6hqF3FBbwRNJPPNIFSNFGWZmPAAAJJPSsD4W/GH4SfHHwqvjv4KfFLw54w0Nrh4F1nwtrdvqFoZUxvjE0Dum5cjK5yM80AdHXifj7UbKD/gox8KdNmuFWe4%2BC/j9oIz1cLq3g/dj6bhx9fQ16p4c%2BInw/8Y63rfhnwj450fVdS8NXyWXiPT9N1OKefSrl4kmSC5jRi0EjRSRyBHAYo6sBhga%2BK/8AgpT8Wb34Gf8ABTv9jn4kNM6aXL/wmWha4w%2B4ltqMvh61Ekh7IkrxPnplRXPisRHCUHVlsrX9G0vwvc5cbioYLDOvPZWv6OUY3%2BXNc7j9jH/iU/8ABSj9rrwweF/tHwbqEQ/vefpEhYj8QBX1pXyX8Bv%2BJN/wV%2B%2BPmm9P7a%2BH3hbUMf3vJSSDP64r60rhybTCzj2qVV/5Uk/1P0rxJ9/PcNW/nweBl/5aUov8abCiiivWPz8KKKKACiiigAooooAKKKKACiiigAooooAKKKKACiiigAooooAKKKKACiiigAooooAKKKKACiiigAooooAKKKKACvGfHH/KQv4X/wDZGfHn/p28IV7NXjPjj/lIX8L/APsjPjz/ANO3hCgD2aiiigArzH9o/wCPPi34R3vg3wP8Lvh1YeKvGHjzxBLpmgaVrHiF9KsY1gsbm9uLm5uo7a5eKNIrYqNkEjNLLEuFUs6enV5h%2B0h8BvF3xcvfBvjn4W/EWw8K%2BMPAfiCbU9A1XWPDz6rYyrPY3NlcW1zax3Nq8sbxXJcbJ42WWKJssoZHAOO1H9uZ7/8AZt%2BHXxp8A/C1brXviX4hsvD2j%2BGdf18WFtp%2BrSmZZ4Ly9jhn8tIXtbiPfHDKZJFREUmRa57Xv%2BCgHxHP7LOpftXeAfgX4W1bQ/BUfiYfE2C9%2BJrWjabcaDeXFpewafIunSpqBZ7S4aJpjZq6iIsYzIQnTaf%2Bxx4j8O/snx/sraT4t8C6/YW9naxrL8R/ho2t2d/N5pnvp76yW/gS4ae4Z5kVGhWFmHEgUVwOr/8ABNT4jaR8NPhz8IPhJ8fPCOmeGPCHiHUfEvijwz4h%2BF0t7pnibXLm%2Ba/ina3s9Ushb2lrcyyyQWW6SJSttuLfZkyAfWOk6jHq%2Bl22rQ280SXVukyxXERSRAyhgrKeVYZwR2NeQ/sH/wDJENc/7LN8R/8A1Ndbr07xN4H8M/ELwXceBPin4Z0fxHpuo2gg1jTNT0tJrK9HG5Xt5vMUoSM7GLY45OM143/wT%2B0zwZ8Lv2WdX0nQNFsND8P%2BH/in8Ro7TT9NtEt7WxtIfGWthY444wFjjRFwFUAAAAChtJXYm0ldng//AAUd%2BMfhzxj%2B1Z4e%2BHfiNhceB/gD4bn%2BKnxHg3YS7v4kKaPp5PTzHlYNsOQ6TD0r13/glr8EPEfgD9ntvjl8V2Nx8RPjDe/8Jd41vpY9rq1yC9taAHlI4YHVRH/AzyAYHA%2BIPhzour/tdaZ4L8JeIEZ/EH7WfxXufG/xEiBJaw8FaJO62unueyMYsRNzyAOtfrpFFHBGsMMaoiKFRFGAoHQAdq%2BRyRPMcxqY%2Be32fWS0/wDAaSivJ1JeZ9VlnNknhlTqvTEZ1UeIn3WDoN0sJTfVRqVFVrtbNxi3eyHUUUV9cfLBRRRQAUUUUAFFFFABRRRQAUUUUAFFFFABRRRQAUUUUAFFFFABRRRQAUUUUAFFFFABRRRQAUUUUAFFFFABRRRQAV4z%2By//AMlv/aO/7LNY/wDqFeF69mrxn9l//kt/7R3/AGWax/8AUK8L0AezUUUUAFFFFABRRRQAUUUUAFFFFABRRRQAUUUUAFFFFABRRRQAUUUUAeRft9/D7xp8Vv2KPin8OPh5o0up6zrPgbUbWy0iBwr6mWgbdZqWIUGdd0I3EL%2B85IGTXmPwN1/4g%2BI/Hnxz%2BK/wP%2BHOs%2BHJfHtvZRfDS2%2BIXgfV9GtLvWbDRFje9voZLVZ7O2MjWlrvlRHlWwbyRIqxlvquigD46/4Je/BT9on4F/FX40eGfjR8H9I0K0vdV0S7i8Q6b4tvNWPiHUW0uE316ZrjSrFZ2lnMk0siDCzyyxhAEDHgP%2BCp/wABvjD8aviRqXhvX/GOg6jBD8AvHOt/D%2Bx0TwxcWWoadc2GseELsLNdPezLdSSGJUVo4bfbuYENu%2BX9BK8X8fQxXH/BQX4YwTxK6P8ABfx6ro4yGB1bwgCCO4rDFYeGLws6E9pJr701/wAH5HNjcLTx2DqYee04uL%2Baa/C9/kfNPwh%2BPMEH7b/wZ/bD8SCMeGf2jfgxZ%2BGU1CM4TT/ElvILn7NIen7wloU7lwQOFJr7%2Br84PgR%2BzRN8Z/2OPjh/wThgvmsvFPwU%2BJ97cfDO%2BMu2WwDyNqGkXAc8x%2BYzzoW7JI2K%2BvP2C/2nR%2B1p%2BzHoHxT1S1%2ByeIYA%2BleM9LZNj2GsWx8u6iZP4MsBIqnkJKma8DIcTOL9lV3qJzX%2BJWhVj8px5l/dl5H3lbES4u8OMsz9fx8LGGCxK7On7T6vU8lOKq0ZPb2lKPWaR7HRRRX0x8YFFFFABRRRQAUUUUAFFFFABRRRQAUUUUAFFFFABRRRQAUUUUAFFFFABRRRQAUUUUAFFFFABRRRQAUUUUAFFFFABXjPjj/lIX8L/wDsjPjz/wBO3hCvZq8Z8cf8pC/hf/2Rnx5/6dvCFAHs1FFFABRRRQAUUUUAFfF3i74j/wDCp/8AglB8dfGyXHlSxeLvira2sucbJ7nxjrltER7iSZK%2B0a/ML9v3x5ZeGP8AglXqngq/l/ceMv2o/F%2Bl3kY728fjrXb6Qn/ZAtASe3FeZnVf6rlFerfaEvvasvxkefmqxEstq08Or1Jrkgu86jVOC%2Bc6kV8ztP8AgiR8LpvFmoeIf2l9YtP9E8N%2BGtL%2BGfghmHAtdOhjfUp4z3Se%2BZpAR0IcV%2BhNfOf/AASR8Dj4ff8ABOH4S6J5Gw3Xhgam3HLG9mku9x%2BonFfRlZZBh1hsnorrKKk/WST/AAVl6JH6J4hVKEeLcRgMN/AwfLhKS7UsLFYeHzl7OdSX96pL1ZRRRXsHxYUUUUAFFFFABRRRQAUUUUAFFFFABRRRQAUUUUAFFFFABRRRQAUUUUAFFFFABRRRQAUUUUAFFFFABRRRQAUUUUAFeM/sv/8AJb/2jv8Ass1j/wCoV4Xr2avGf2X/APkt/wC0d/2Wax/9QrwvQB7NRRRQAUUUUAFFFFABRRRQAUUUUAFFFFABRRRQAUUUUAFFFFABRRRQAUVHe3tnp1nLqGoXcUFvBE0k880gVI0UZZmY8AAAkk9K5v4e/HD4K/FzwNL8T/hT8X/C3ifw1A0qzeIvD3iC2vbGMxDMoaeF2jBQctlvl74oA6ivGfHH/KQv4X/9kZ8ef%2BnbwhXefCb46fBL496HceJvgX8YvCvjTTbS6Ntdah4T8Q22owQzBQ3lvJbu6q%2B1lO0nOCD3rg/HH/KQv4X/APZGfHn/AKdvCFAHjf7VGk/FX9hz9qjVf%2BCiPw58HS%2BKvAPijQrLTPjP4c02InUbCK0ysGs24ziYRREI6H7qKTkBi8XL3/jfWv2RfiTrn/BQn9mLS4/iR%2Bz58XPs%2Bs%2BP9N8MZe%2B0C8VSkur20Rx5iNybiM4dXDbtgTI%2B8ZI45o2iljVkZSGVhkEHqCK%2BOfFf7Gv7S37HHjjW/i7/AME3NU0a98Na5eG/8S/AjxI3k6dcXBGJJdMuM4spXH/LM4izjJKqka/M5hgK%2BHn7WhzOPM5%2B6k5U5veUU/jhL7dPfrHstuHOIMZwNmGIqRw/1vAYpOOIw7vdpyU3Km1aSkpxVSLjedOoueKnGVSlL6k%2BEvxd%2BGvx1%2BH2m/FT4R%2BMbLXtA1aAS2Oo2Mm5HHQqQeUdTlWRgGVgQQCCK6Ovy5%2BH3j3wto3xg1XxD%2Bw78Sh%2Bz78Wry8E3jP9mv4v2/2XQtdusctaE7VjeTHySQEFwF%2BWJSSfqT4M/wDBUX4Y6l4ui%2BCP7XXhK%2B%2BCfxJUhG0HxjIF0/UG6eZZahxBPGxwBkqSThd%2BM1vgc%2Bw1ZKOIajLbmv7kn2TdnGX9yooyW3vbn2cuFMFxFg55pwbiPr2Gjdzpr/e8Ot2q1Be9JR2dajGdN2vKNJtpfUVFJHJHLGssThlYAqynIIPcUte%2BfDbBRRRQAUUUUAFFFFABRRRQAUUUUAFFFFABRRRQAUUUUAFFFFABRRRQAUUUUAFFFFABRRRQAUUUUAFFFFABXjPjj/lIX8L/APsjPjz/ANO3hCvZq8Z8cf8AKQv4X/8AZGfHn/p28IUAezUUUUAFeY/tH/Hnxb8I73wb4H%2BF3w6sPFXjDx54gl0zQNK1jxC%2BlWMawWNze3Fzc3UdtcvFGkVsVGyCRmlliXCqWdPTq8w/aQ%2BA3i74uXvg3xz8LfiLYeFfGHgPxBNqegarrHh59VsZVnsbmyuLa5tY7m1eWN4rkuNk8bLLFE2WUMjgHHaj%2B3M9/wDs2/Dr40%2BAfhat1r3xL8Q2Xh7R/DOv6%2BLC20/VpTMs8F5exwz%2BWkL2txHvjhlMkioiKTItcXP/AMFNPEviTwZZX3wa%2BAGn%2BKfEljpHi7UvG%2Bhjx0Le30yLw3qY0vUIrS7FnJ9unmutwtVeO3SWNGeWS24U9zp/7HHiPw7%2ByfH%2BytpPi3wLr9hb2drGsvxH%2BGja3Z383mme%2BnvrJb%2BBLhp7hnmRUaFYWYcSBRXCL/wTA1bwT8O9F8L/AAC%2BPFh4Q1hPDHifQfFerN4FS4t9Qtdevk1C9ks7SK6gTT5YblW%2ByfNNDBE5jeKcBSAD6j8E%2BMNB%2BIXgzSPH3ha6M%2Bma5plvqGnTlCpkgmjWSNsHplWBxX43f8FOPHuPg14Z%2BHiEPbaf8Q/jXrerxk/c83xdq2nWb4/67XTiv19j%2BDXwwk%2BElr8CdZ8Eabq/hG10WDSf7B1uyjvLaazhjWNIpY5QyyKFReGBzivxG8Z%2BGvDnjj9o/V/gb4L8P2WnaDoXxdm%2BGVhoel2iQWtkNQ%2BJGuaokccUYCxqIbRVCqAAoAxgCvl%2BMJyWSypR3nKMfxv%2BiPd4QwtLH8e5HhKqvCWNw8p/4KE5Yqp/5JhWftr8B/BA%2BGfwO8GfDcReX/wj/hTTtN8vH3fIto4sf%2BO11dFFfS04Rp01COySX3JL9DysXiauNxdTEVXeU5Sk/WUpSf4yYUUUVZzhRRRQAUUUUAFFFFABRRRQAUUUUAFFFFABRRRQAUUUUAFFFFABRRRQAUUUUAFFFFABRRRQAUUUUAFFFFABRRRQAV4z%2By//AMlv/aO/7LNY/wDqFeF69mrxn9l//kt/7R3/AGWax/8AUK8L0AezUUUUAFFFFABRRRQAUUUUAFFFFABRRRQAUUUUAFFFFABRRRQAUUUUAeRft9/D7xp8Vv2KPin8OPh5o0up6zrPgbUbWy0iBwr6mWgbdZqWIUGdd0I3EL%2B85IGTXnn7N/jDTLz4s/Gb42SfCbxxpPg3xm%2Bnf2NpOr/DTVrS61OTTdGRL65axltVmi3oYLSMTIjXDWO2ISL5Zb6gooA%2BYP8Agnt4pvvjb43%2BIv7U/jT4e%2BMPB/ibxlBo9kfB3ij4eatoR0TRbL7b/Z9u8l/awx318Tc3ctzJbmSOIzQwBmSKOWbYv9N%2BK9p/wU28F3njbxp4e1DQrj4PeOD4a07SvDE9nd2CDVvCXmLc3Ml7Ml2TlMFIbcLtOQ24bfoevGfHH/KQv4X/APZGfHn/AKdvCFAHs1FFFAHBfHv9l79nz9qHwz/wiXx9%2BEmi%2BJ7RVKwPqFqPPts9TDOuJYG942U18o/Fr/gk58Y9C8HTeBv2dP2ibPxP4MGWt/hT8dtK/tzSoTjhba9UfarFV6L5XzDOd%2Bea%2B66K87GZTgMc3KrD3mrcy0lbs2t15SUl5HG8FSjjYY2hKVLEQacatKcqVWLWzU6bjLTpdyXkfj/DqP8AwUo/4JzMw8F/DXx54T8PWj5Ph6ZW8beC9nXdHNEft2kwf7P72Qk8tzXtn7PX/BxD8AfFHkaF%2B0r4EvPCl4QfM17w3IdV0xlU4MrxqFu7YEnIR4mIHU1%2BileV/Gv9h/8AZD/aKM0/xn/Z18Ka5dz583U5tJSK9OfS5i2zD8HrxI5Hm%2BXv/hOxXu/yVI3j8rPT5Jeh9jU4zzzMI8ue0aOYv/n7Ui8Pi/V4nDRSqvzxGFqNv4pvVvoPg1%2B0b8Bv2h9EHiH4H/F7w/4ottgaT%2Bx9TjlkhB7Sxg74j/suoPtXaV8DeP8A/g3m/ZIu9aHi74DfE7x98ONYgffYzaTrf2mK2bsV80efkeonFWvD/wCyt/wWp/Zv2QfB39uTwb8VNItFJTSvilo88U8wHRfOQSzMe3zXKj3rsp5jnNDTF4Rv%2B9Skpr/wF8svzPncZjcr1lRoV6f92SpVl8p0pU5P/t6jF9XbY%2B76K%2BIpf%2BChP/BR/wCCtpbxftM/8ErNe1OPLG6134WeIY9VjKD%2BJbSJZnjHf95KPwpPDX/BwF%2BwTd6k%2Bh/EiDx54FvoX2XVp4p8IvvgbuGW1eZh%2BWfatv8AWHKIvlq1PZvtOMof%2BlRS%2B5s895hh403Umpxit5Sp1FFebk6bil5uUV2ufb1FfP3gj/gqr/wTq%2BIAQ6D%2B174Ng8z7o1rUDpp/EXixY/GvW/B/xr%2BDfxCCHwD8WvDOuCT7h0fXre53fTy3Oa9CjjsFiP4VWMvSUX%2BT/QeHzHLsX/ArQn/hlF/lK/4HTUUUV1HYFFFFABRRRQAUUUUAFFFFABRRRQAUUUUAFFFFABRRRQAUUUUAFFFFABRRRQAV4z44/wCUhfwv/wCyM%2BPP/Tt4Qr2avGfHH/KQv4X/APZGfHn/AKdvCFAHs1FFFABRRRQAUUUUAFfjJ%2Byb4DfxN/wUVW3uLf5vEn7b3xK1OQEdYfDs13JDIfbzL2VR7qa/ZuvzS/YY8KaRqn/BUNtM0uNmj8ML8WPEt7K5BxfX/wARdXsiOBwfIiTH%2ByvWvBz6gq8cOn/z9h%2BL/wAos%2B18PsMv9YauYvbB4XHVfSTws6EH8pYk/S2iiivePigooooAKKKKACiiigAooooAKKKKACiiigAooooAKKKKACiiigAooooAKKKKACiiigAooooAKKKKACiiigAooooAKKKKACvGf2X/APkt/wC0d/2Wax/9QrwvXs1eM/sv/wDJb/2jv%2ByzWP8A6hXhegD2aiiigAooooAKKKKACiiigAooooAKKKKACiiigAooooAKKKKACiiigAooooAK8Z8cf8pC/hf/ANkZ8ef%2BnbwhXs1eM%2BOP%2BUhfwv8A%2ByM%2BPP8A07eEKAPZqKKKACiiigAooooAKKKKACud%2BIfwh%2BE/xd03%2Bxvit8MfD3ia02kC21/RoLyMA%2BiyqwFdFRUzhCpFxkk0%2BjV1%2BNzbD4jEYSsq1CcoTW0otxkvRxcWvk0fJXxT/wCCIH/BOD4oedcQ/BCXwzdzgh7vwnrNxaY%2BkJZoB/37r59%2BIX/Btd8NZYDF8IP2kL6ygQ5Sy8WeE7S%2BMo/uNcWxtpF/3hzX6b0V4mJ4YyDFO88PFPulyv8A8lt%2BR9B/rdnVVWxns8Uu2JoYfE39XXoTn/5V/wAz8lpP%2BCPH7eXwcbPw8k8O6tYwjEI8BfFnXtB1Bsf9fjTQKfTGRTf%2BEO/4KA/CIY8ZaP8Atr6MsXV/D/j/AEzx2gA7qiRwkj/Zz04r9a6K4f8AVLBU/wDd6s4fO6/OL/ESzHgrE/79w5hH50HisHL/AMt8S6af/cL0S2PyYtv21vif4LnSz8U/8FdPiV4AlLbRp3xX/ZfiZi391pYhJtPvmvSPBH7X37UHiXYvgL/gr7%2BzN4hkf/VQeK9DGkyye3liRGz7AV%2BjlzbW15A9rd26SxSLteORAysPQg9a838b/sY/sifEne/jz9l/wBqsj9bi98I2byj3Enl7gfcGj%2Bw8zpfw8Rf1lVj%2BU5r8A/s3wixW%2BGzHCv8A6dY6NaK9I4ilGX/k7Z4F4a8cf8FmNYtft3hPxD%2Byd4xtAMibSdS1tZGH1UlBWn/wt7/gsrpH/IR/ZA%2BEesY6/wBk%2BP5rfd9PPU4rS8Sf8EYv%2BCbniG6/tK3/AGc4tHvFOYrzw/4h1CxaM%2BqrFcBB/wB81m/8Oi/AmgfN8KP2yv2hPBu3/V2%2BifE%2BU249mjljfcPbNH1PPKfWb/w11%2BVSj%2Bof6neHOI/3biLG0fKthlNL50akr%2BvL8g/4ar/4Kt6X/wAhH/glNpepAfebTPjlpcX4gSxZ/Cg/tz/t%2B6f/AMh//gkb4sjx97%2BzviXpV3%2BW1Rml/wCGD/25vDA/4tl/wVn8bW4X7i%2BK/A2m6zn2JlKE/Wj/AIU9/wAFkfC3/IB/bF%2BE3irb93/hJ/h9LY7/AK/Y2OPwovm0Pi9uvRYef5crD/iG%2BAq/7pxbQflUhVpP58%2BDkv8AyZif8PGf2mLL/kN/8EqfjFHjr9gls7n8trjNH/D0P4g2f/IX/wCCYP7SKY6/YvBEVx/6DOM0v/CV/wDBbTwz/wAhf4Tfs8eJ1X/oA67q1k7j/t5BAP6UH9qr/gqp4d48Rf8ABLPTNZjX79x4e%2BM%2BnR49xHNHub6UfW8XH4q1aPrh0/8A0m4f8Qo4pn/uueYOr6YnBr/077BiH/grNa2/Gqf8E5v2qrXHVpfhASv5i5o/4e9fDaH/AJCP7HH7Rtp6/afhLMMflKaX/h4j%2B1Hon/I7/wDBKf4t2%2B37/wDYN7Zanj6eWy5o/wCHs%2Bj6Z8vjP9gP9pnRMffmu/hSzwj6Ok5z%2BVH9ozW%2BNt/ioNf%2B2h/xCDxTl/BqQq/4JYGf/pGNTfyQn/D4z4Ax/wDH98Afjhbevn/C26GPyJo/4fM/srR/8ffw8%2BLMH/Xb4Z3w/kppf%2BH0H7Hth/yN%2Bg/Evw/j739s/DfUE2/XYj1Y0/8A4Lb/APBMe/l%2BzS/tLLZzD70N/wCEtWhK/UtaAfrTWaR/6GNL5wivzmhS8H/GqMbxwNeS7xwjmvvp1Jr8St/w%2Bk/Y3X/X6R8SIv8Arp8N9Q/pHR/w%2Bq/YjH%2Bsk8ep/vfDrUv/AI1XW6V/wVn/AOCcWs4%2Byftc%2BFEz0%2B1Sywf%2BjUWui0z/AIKK/sEatj7J%2B2X8Mlz0%2B0%2BNbKH/ANGSLW8cZWn8OPov/t2P/wAtPKr%2BHXixhf4uErR9cDX/AETPMP8Ah9X%2Bw9/z%2BeO//Ddal/8AGqP%2BH1H7FTf6mL4gyemz4c6jz/5Cr27Tv2xf2RtYx/ZP7U/w4us9Ps3jiwfP/fMxrdsPjt8ENVwdL%2BMnhW5z0%2Bz%2BIbZ8/k9bxlmE/hxlN%2BkI/wDy08mtwzx5h/4qlH1wlVf%2BlWPnT/h89%2ByU/wDx6eDvilcenk/DS/OfzUUv/D479nqX/jw%2BBnxsu/T7P8Lrs5/MivqOx8X%2BE9Tx/ZvifTrjPTyL2N/5GtEEMNynIPQitlQzaW2Jj8qa/wDkzzp4DiKm7TxMYv8A68JfnM%2BSv%2BHvnwxl/wCQf%2Bx/%2B0Vd%2Bn2b4TTHP5yij/h7ZoMn/Hp/wT9/akuB6w/B9j/O4FfWtFP6rm3/AEFL/wAFQ/8AkiPqWeP/AJjV/wCCYfrM%2BSv%2BHstsfu/8E3/2sGHqPg7/APdVA/4Kz2A/1n/BOj9qxPdvg6f/AJJr61oo%2BqZr/wBBX/lKH/yQfUc7/wCg3/yjT/8Akj5K/wCHtvh1f9d%2BwF%2B1FH/v/CB//kiqnwU/a50j9qf/AIKF%2BDP7K%2BBPxO8EnQfgz4y8wfEfwg2lfbPP1bwrj7Pl283Z5J39Nu9Ou6vsCvGfHH/KQv4X/wDZGfHn/p28IVrQw%2BYU6qlVxHNHt7OMb/NSbX3G%2BGwua06ylWxXPHqvZQjf5qTa77Hs1FFFegeoFeY/tH/Hnxb8I73wb4H%2BF3w6sPFXjDx54gl0zQNK1jxC%2BlWMawWNze3Fzc3UdtcvFGkVsVGyCRmlliXCqWdPTq8w/aQ%2BA3i74uXvg3xz8LfiLYeFfGHgPxBNqegarrHh59VsZVnsbmyuLa5tY7m1eWN4rkuNk8bLLFE2WUMjgHB%2BPP8AgoLo3hX9i/w1%2B13Z%2BBbS2i8Q6hYafeWfi3xIul6b4cuprn7LcNqeorDOtrb286yRvcLFIpYIAMPuHmHxI/4LFWngD4F%2BB/jJP8KPClqvjHSfE9/bT%2BJPid/Z%2Bkal/Y16tqlvo9%2BLCX%2B1rjUVb7Tp8XlQG6tgZMp92vTm/YY8ZaP8AfBfwY8E/HKytrz4e%2BINN17w5rWreEWu473U4fOe7l1K2S8iW6jnnuJp1jia3MEnlsrMY1Nchff8EyviDZeEoLHwX%2B0hottrOo6J4z0vxjca38OPt%2BmXcXibVBqV81hYi/i%2BwOkwKR75blDHgTLOw30AfWGg6o%2BuaHZa1Jpd1YteWkc7WV9GEmty6hvLkUEhXXOCMnBB5r89P%2BCPNjc%2BKf26/wBrHxrexHy/DfxH1nw/p8h7rN4n128lA9MOV/Ovu2z%2BDPw8b4OWXwH8V%2BHbbxL4atdCt9JuNP8AE9tHfR39vDGkai4SVSkxIQFty4J5xXyL/wAEP/hT4f8Ahz4e/aNu/DHhqy0fTp/2qvHGnaPpum2iQW9tYWWqSwwxRRoAscaEyIqKAFCgCvOxtN1cVhl0U3L7oSt%2BLPs%2BGMbDA5HnUn8VTDwpL/t/FUHL/wAlptPyZ9x0UUV6J8YFFFFABRRRQAUUUUAFFFFABRRRQAUUUUAFFFFABRRRQAUUUUAFFFFABRRRQAUUUUAFFFFABRRRQAUUUUAFFFFABRRRQAV4z%2By//wAlv/aO/wCyzWP/AKhXhevZq8Z/Zf8A%2BS3/ALR3/ZZrH/1CvC9AHs1FFFABRRRQAUUUUAFFFFABRRRQAUUUUAFFFFABRRRQAUUUUAFFFFAHj3/BQc%2BOR%2Bw58WD8N/7T/tj/AIQLU/s/9ib/ALds%2Bzv5v2by/n8/yvM8vZ8%2B/bt%2BbFfPPwA8S/DPTPCH7R3h3/gnlr/ha38Lano3/FmbHwVdWy6bd%2BJY/D%2B69/spIj5cgVzYNN5IKi4M5fEvm19z0UAfFX/BLs/AU/FrxT/wx4dLPw5/4VJ4L/tz%2Bwtv2b/hLPM1b7b9o2/8xX7N9h%2B2%2BZ%2B/z9m875q9Ov8AUvivd/8ABTbwXZ%2BNvBfh7T9Ct/g944HhrUdK8Tz3l3fodW8JeY1zbSWUKWhGEwEmuA245K7Ru%2Bh6%2BcP2j9X%2BNej/ALeHwnn%2BB3w/8LeItSb4R%2BO1u7TxX4wudFgjg/tTwkS6S2%2Bn3rO%2B7aNhjUYJO/ICkA%2Bj6K8Z/wCE4/4KF/8ARr/wZ/8AD8at/wDMvR/wnH/BQv8A6Nf%2BDP8A4fjVv/mXoA9morxn/hOP%2BChf/Rr/AMGf/D8at/8AMvR/wnH/AAUL/wCjX/gz/wCH41b/AOZegD2aivnHSf2jv27dY%2BM%2Bv/A63/ZQ%2BEi6p4d8L6Rrt5cv8ddU8iSDUbnUreFEI8Mbi6tpc5YFQAHjwWJYL1H/AAnH/BQv/o1/4M/%2BH41b/wCZegD2aivGf%2BE4/wCChf8A0a/8Gf8Aw/Grf/MvR/wnH/BQv/o1/wCDP/h%2BNW/%2BZegD2aivGf8AhOP%2BChf/AEa/8Gf/AA/Grf8AzL1y/gH9o79u34ieK/G/hDR/2UPhJDceA/FEWharJc/HXVAk88mlafqYeLb4YJKeTqMKksFO9HGMAMwB9HUV4z/wnH/BQv8A6Nf%2BDP8A4fjVv/mXo/4Tj/goX/0a/wDBn/w/Grf/ADL0AezUV4z/AMJx/wAFC/8Ao1/4M/8Ah%2BNW/wDmXo/4Tj/goX/0a/8ABn/w/Grf/MvQB7NRXzj8Iv2jv27fjL4Uu/F/hz9lD4SW1vZ%2BKNb0KSO9%2BOuqK5n0vVbrTJ3G3www2NNaSMhzkoykhTlR1H/Ccf8ABQv/AKNf%2BDP/AIfjVv8A5l6APZqK8Z/4Tj/goX/0a/8ABn/w/Grf/MvR/wAJx/wUL/6Nf%2BDP/h%2BNW/8AmXoA9morxn/hOP8AgoX/ANGv/Bn/AMPxq3/zL1y/wR/aO/bt%2BPHwY8IfHHwr%2Byh8JLXS/GfhfT9d0221D466os8MF3bR3EaSBPDDKHCyAMFZhkHBI5oA%2BjqK8Z/4Tj/goX/0a/8ABn/w/Grf/MvR/wAJx/wUL/6Nf%2BDP/h%2BNW/8AmXoA9morxn/hOP8AgoX/ANGv/Bn/AMPxq3/zL1y/xu/aO/bt%2BA/wY8X/ABx8VfsofCS60vwZ4X1DXdSttP8AjrqjTzQWltJcSJGH8MKpcrGQoZlGSMkDmgD6OqvqGk6Vq0Xkarplvcp/cuIVcfkRXkP/AAnH/BQv/o1/4M/%2BH41b/wCZej/hOP8AgoX/ANGv/Bn/AMPxq3/zL0mk1qOMpQd4uzO71X4D/A7Xc/238GvCl5u%2B99q8O20mf%2B%2BkNc5qf7FH7GmtZ/tj9kn4ZXeepufAenP/ADhNY/8AwnH/AAUL/wCjX/gz/wCH41b/AOZej/hOP%2BChf/Rr/wAGf/D8at/8y9YywuFn8VOL9Yxf5xZ6tDPs%2Bwv8DGVof4atWP8A6TViQaj/AME2f2ANUz9p/Y3%2BHK5/59vCdtD/AOi0WsPUP%2BCS/wDwTi1LJuP2R/Cq5/5945Yv/QJBUXxd/aO/bt%2BDXhS08X%2BI/wBlD4SXNveeKNE0KOOy%2BOuqM4n1TVbXTIHO7wwo2LNdxs5zkIrEBjhT1H/Ccf8ABQv/AKNf%2BDP/AIfjVv8A5l655ZVlc/ioQf8A25H/AORPWo8e8dYf%2BFmuKXpiK/8A8tZwV9/wRb/4Jjahn7R%2Byrp65/54a/qcX/oFyKz2/wCCHv8AwTOiJbS/gDe2BJzmz8c6yv8AO7Nem/8ACcf8FC/%2BjX/gz/4fjVv/AJl6P%2BE4/wCChf8A0a/8Gf8Aw/Grf/MvWLyPJXvhqf8A4BH/ACPRh4qeJtNWjneLt/2EVX%2Bc2eY/8OU/2GIP%2BQVpHjax9PsnxD1MY/OY0v8Aw5q/Zch/5BvxI%2BLdl6fZfibejH5k16b/AMJx/wAFC/8Ao1/4M/8Ah%2BNW/wDmXrl/H37R37dvw78V%2BCPCGsfsofCSa48eeKJdC0qS2%2BOuqFIJ49K1DUy8u7wwCE8nTplBUMd7oMYJZV/YWTdMPH7rfk0X/wARW8Sn8WbV36zUv/Sqcjmv%2BHP3wYi/5B/7Tnx8tPT7N8VbgY/NDR/w6P8ABsX/AB4/tyftMWvp9n%2BLkgx%2BcBr03/hOP%2BChf/Rr/wAGf/D8at/8y9H/AAnH/BQv/o1/4M/%2BH41b/wCZej%2Bw8o/58r75fpMP%2BIqeIb3zGb9YUH%2BeGZ5l/wAOno4v%2BPP/AIKQftWw%2Bir8YMj8jbVS%2BCv7Kt7%2BzL/wUK8Frd/tM/FP4ijWvgz4z2f8LM8UjUzp/k6t4Vz9nIjTy/M80b%2Bu7yo%2BmOfWv%2BE4/wCChf8A0a/8Gf8Aw/Grf/MvVDwP4H/as8Y/tWeHPjd8bvhx8PfDOjeGfh74h0OGHwr8Q77Wrq7utSvtEuEZkuNIsUijRNLlBYO7FpUAXGSNqGVZfhqqqUoWkv703%2BDm1%2BB5%2BacfcXZ3gZ4PHYrnpztdeyw8b2aa96GGpzWqW012d1dP3WiiivQPjwooooAKKKKACvB/%2BCdnhXTPDHwV8XTacG36r8ePiVfXbNj5pW8Z6wvbsFRR%2BFe8V8lfsleLP2ztP%2BHviiz%2BGPwD%2BGGr6Enxp%2BIv9n6jr3xd1HTbuZf%2BEz1ksZLaLQLlIiG3AATPkAHIJ2hOKbTfQuNSpCEoJ6Stdd7O6%2B56n1rRXjP/AAnH/BQv/o1/4M/%2BH41b/wCZej/hOP8AgoX/ANGv/Bn/AMPxq3/zL0yD2aivGf8AhOP%2BChf/AEa/8Gf/AA/Grf8AzL0f8Jx/wUL/AOjX/gz/AOH41b/5l6APZqK%2Bcfgj%2B0d%2B3b8ePgx4Q%2BOPhX9lD4SWul%2BM/C%2Bn67pttqHx11RZ4YLu2juI0kCeGGUOFkAYKzDIOCRzXUf8Jx/wUL/6Nf8Agz/4fjVv/mXoA9morxn/AITj/goX/wBGv/Bn/wAPxq3/AMy9H/Ccf8FC/wDo1/4M/wDh%2BNW/%2BZegD2aivnH43ftHft2/Af4MeL/jj4q/ZQ%2BEl1pfgzwvqGu6lbaf8ddUaeaC0tpLiRIw/hhVLlYyFDMoyRkgc11H/Ccf8FC/%2BjX/AIM/%2BH41b/5l6APZqK8Z/wCE4/4KF/8ARr/wZ/8AD8at/wDMvR/wnH/BQv8A6Nf%2BDP8A4fjVv/mXoA9morxn/hOP%2BChf/Rr/AMGf/D8at/8AMvXL/F39o79u34NeFLTxf4j/AGUPhJc2954o0TQo47L466ozifVNVtdMgc7vDCjYs13GznOQisQGOFIB9HUV4z/wnH/BQv8A6Nf%2BDP8A4fjVv/mXo/4Tj/goX/0a/wDBn/w/Grf/ADL0AezUV4z/AMJx/wAFC/8Ao1/4M/8Ah%2BNW/wDmXo/4Tj/goX/0a/8ABn/w/Grf/MvQB7NRXzj4%2B/aO/bt%2BHfivwR4Q1j9lD4STXHjzxRLoWlSW3x11QpBPHpWoamXl3eGAQnk6dMoKhjvdBjBLL1H/AAnH/BQv/o1/4M/%2BH41b/wCZegD2aivGf%2BE4/wCChf8A0a/8Gf8Aw/Grf/MvR/wnH/BQv/o1/wCDP/h%2BNW/%2BZegD2aivGf8AhOP%2BChf/AEa/8Gf/AA/Grf8AzL1y%2BrftHft26P8AGfQPgdcfsofCRtU8ReF9X12zuU%2BOuqeRHBp1zptvMjk%2BGNwdm1SAqApBCSZKkKGAPo6ivGf%2BE4/4KF/9Gv8AwZ/8Pxq3/wAy9H/Ccf8ABQv/AKNf%2BDP/AIfjVv8A5l6APZqK8Z/4Tj/goX/0a/8ABn/w/Grf/MvR/wAJx/wUL/6Nf%2BDP/h%2BNW/8AmXoA9mor5x0n9o79u3WPjPr/AMDrf9lD4SLqnh3wvpGu3ly/x11TyJINRudSt4UQjwxuLq2lzlgVAAePBYlgvUf8Jx/wUL/6Nf8Agz/4fjVv/mXoA9morxn/AITj/goX/wBGv/Bn/wAPxq3/AMy9H/Ccf8FC/wDo1/4M/wDh%2BNW/%2BZegD2aivGf%2BE4/4KF/9Gv8AwZ/8Pxq3/wAy9cv4B/aO/bt%2BInivxv4Q0f8AZQ%2BEkNx4D8URaFqslz8ddUCTzyaVp%2Bph4tvhgkp5OowqSwU70cYwAzAH0dRXjP8AwnH/AAUL/wCjX/gz/wCH41b/AOZej/hOP%2BChf/Rr/wAGf/D8at/8y9AHs1eM/sv/APJb/wBo7/ss1j/6hXhej/hOP%2BChf/Rr/wAGf/D8at/8y9W/2Vvhz8afB%2BsfFDx38dNA8L6Tqnj74hRa5Z6V4T8S3OrW9raxaDo%2BmKr3FxZWbNI0mnSuVEW0LIg3Mc4APW6KKKACiiigAooooAKKKKACiiigAooooAKKKKACiiigAooooAKKKKACiiigAr5X1b9rT4uQ/tIza4vh3we3w80j4wW3wuaKTSLg6%2Bbi80%2B1uG1CO8%2B0eUkH26W3t2tPs5LJD5/nghYa%2BqK8ZvP2IfhxefH5vjq/jnxUttL4rh8VXPgVLq1/sSfX4tOXTo9UZTb/AGnzVt0jHlC4FuZIkmMJlHmUAezUUUUAFFFFAHzH4c/aW%2BJkP/BQDxR8H/iNrHh7wn4bXX7TRfBkWo/CLWUuvGMH9gQajiDxG12unNLHd3OoAWgheXy7SYBQWaRfpyvK/Fn7LUHj/wCMmkfFPx78b/Gur6V4e12PWtA8AXB0yLRrHUI7d4I5w0Nkl7Ls8ySRUmupIxI%2B7Z8iBfVKACiiigDxf/goL8Xfjh%2Bz9%2ByP40%2BPXwCvfCkeseCdCu9cuoPGGi3N9bXdpa20sz26JbXVsySuyIokLlUBYlH4Fef%2BPP2tPi54L%2BPHi3U/Cnh3whF8PPCHxj8I/D7xlZzaRcHW9V1XXYNFSPUIbtLhYY44P7c0mMxSW8ryJDPiWPagr2H9rH9nGy/a0%2BBGvfs%2B618VfFPhHSfE9lLY65f%2BEF077Xc2UsTxTW26/tLqNEdX5ZEWQFRtdec8XB%2BwD4On%2BItn8RfFXxx8fa6x1nSdc8TaNqEulRWPifXNMSNLHVr2O2sImW4iEFphbZoIGNjbF4mMeSAe90UUUAFeL/tk/F344fBK18A%2BMfhZe%2BFP7G1D4meHPD3i%2Bx8QaLc3N1c2uq6zY6aDZyw3UKW0ka3Msm%2BRJ1JRF2ck17RXlX7V37Lb/tVeG9C8Lz/H3xv4Gt9C8SWGuo3guHR2e7vbG8gvLNpTqWn3g2xXFvG4WMIG5WTep2gA84/Z5/aV%2BJmt/tV%2BLfgj8UNX8PeE9Oh8U63b%2BCfCUnwi1nTLnXraF0lN/b63cXf2DUHYySyyxW0BcZLsVwxP05Xkuk/soh/jJovxl%2BI/7QHjvxrN4Xu7y78J6F4hGkw2Gj3VzbyWslxEthp9tLK/2eaeFfPklVFnfaASCPWqACiiigDwf9rX4zftBfAbxJ4X8XeDPEHgi98Pa14u0Lw7beBb7w5eSa5rlze3yw3LWl7HerFCYLVpLrY1pMPLtJmd40BePj/2Jf2tPi58VNe%2BHGmeP/DvhCy8L/F/4OXHxB%2BGWn%2BFtIuLSbQNKtp9LQafetJcSx3Mn2fWtOYSwx26K0c6eUQFavQviT%2BxyvxE/ad0T9qa3/aO%2BIGhar4f0MaVpmgaZDolxpcEDzebctGl9plxNDLcgRxzSxSo7RwxorIByfs8/sQ/Dj9nHxdF4q8N%2BOPFWtR6T4el8PeCtI8QXVq9r4S0WS4S4fTrAQW8Unkl4bYZuHnlCWkCCQKgFAHs1FFFABXy/wDtc/Hj9pf4LfETT/CmlQ%2BAPGuj%2BOYdattF%2BHMXg%2B%2Bk1hLW00O6u5L%2B4nF68V1bC6it7aSEWsQP2%2BFBMZGRJPqCvDpv2JriP9o/xX%2B01on7VfxL07V/Fumw6dc6XDB4fntNPs4YGjhtrNrnSZbm3iWV3utizbXncu4cHbQAz9hD9oTxv8fPh5eXXxX8faNfeLtOFm2v%2BG7L4Xav4RvNAee2WUQXNjq91PcOC2/y7gCOORUO0NtJr3SvN/gd%2Bzdp3wZ8T%2BJPiHrHxS8U%2BOPFXiuKxt9Y8T%2BLmsFuXtLMTfZbVItPtbW2jija5uXG2EMzXEhZmyMekUAFFFFAHxR%2B0x%2B3D8fvgd8fb/4D6jpvhDxaNYeyTwl/aPwz1fRbbR9RvfEOh6ZpDPeXd5Lb%2BIEjl1iGW4bTxE1u1p8/ktKir7/%2Byr8X/iR8Rh4/%2BH3xiOiT%2BKvhp48bw1rOq%2BGtOms7DU/M0vTtWt7iG3mnnkt82uqW6PG00uJI5MMQRjlviX/wTz8G/G3XrjxB8bfj58RfFT20dx/wh0N/c6VbJ4RuJLq3uo7uwNnYQs9xDLaWxiku2uSnld977/R/gH8BdD%2BAfh7VtNsvF%2BueJNW8Ra9NrXifxR4le2N/q99JHFD50wtYIIF2QQW8CJFFGixwRqF4JIB3VFFFABXxN%2B1F%2B2P%2B1h8HfjN4o%2BFfg/w14c8b6rpfhi/8Q%2BEo0%2BCevwyaQ6Xen28Kwub118TSfZNTnWYaX5TwtEVkEfnCMfbNeI61%2BxfqPiLx%2B3xP1z9rT4oXOt2Fvew%2BDbt00EL4VW7mhec2kY0oJOzRwpAGvRdFYi4BDOzkA6X9lT4tzfGX4UjxNqPxO0bxTqNrqtzY6tdaP4Iv/DZs7iJvmtZ9M1G4nurSdFK7kmYMQyttVWFek1wnwD%2BAegfAHQtZsdP8W654j1XxN4gl1zxP4m8SS27Xuq38kMMHmyC2hhgjCwW9vCqRRRoqQoAuck93QAUUUUAFFFFABRRRQAUUUUAUfFHiGw8JeGtR8V6qHNrpljNd3IiXLeXGhdsDucKa%2Bc/2Jv2k/jX4/wDFOj%2BDPjZ4e8GWY8dfC2y%2BI3hmHwZpVxaDTI7y4Ju9PuzNcSi7mje5tn%2B2IIBO0sxMEe0F/pa7tLW/tZbG9t0mhmjaOaKVQyupGCpB4II4xXkP7M37FfgL9mDVX1fQPiD4t8Sy23hix8M%2BHR4svbWYaBoVm8j2%2Bm2pt7eEtGpk%2BaWczXEgji8yZ/LXAB7FRRRQAVwv7UHjz4i/Cz9mj4ifE74P%2BFF17xb4c8C6vqnhbQ2sZroajqNvZyy21sYYGWWYSSoieXGwdt2FIJBruqzvFuiX/iXwxqHh/S/Feo6Fc3tpJDb61pCwNdWLspAmiFxFLEXU8gSRumR8ysMggHl37FPxan%2BKPwzvrLVviFoGs6n4d1RdOvNM0T4Yap4OfQ0FtBJFZ3Glapcz3MLhHEiu3lo8UsWxMDe/sVeefAf9nbSfgdeeJfEdz8RPEnjHxJ4v1GG88ReKfFb2Yu7ow26W8EQjsba2tooo40AVY4UyWdmLMzMfQ6ACiiigD5c/ao/ax%2BKH7OHxe8cWXxK0bwl4i%2BF9h%2Bzv4v8AHttoVvolwmqu2iDS1ntri5kuXt5op1vpwEFshUImXfLCu3/Zn%2BL/AMfNU%2BLnjL9nX9pZ/CV54o8MeGPD3iWPVfBWk3NjZSWWrPqVutsYbm5uXMsNxpF2DKJAsiPE3lxnctQfGP8AYV8O/HT46t8ZfHnx28cy6bN4K1PwjffD2GDRf7Eu9G1Jbb7faSF9Na9Ina0gdnF0HUoQjIjMh6T9nf8AZd0P9n2%2B1rxHP8UPFvjfxDr9rYWV/wCJ/G1zaSXpsLFJFs7MfZLa3j8qIz3DglDI73Mru7s2aAPT6KKKACvkT41/tL/tbeC9c/aA8C2/hXwZ4svfAXh/wp4k%2BG1jpPw/1O/nWPUdV1KEJd2sV48uozwLpsc6m2FuS5IVflVq%2Bu68Ll/Yo8QxfHTxt8f9C/bQ%2BK2lat430ix0y5sbKz8MNaabbWVxcz2aWwl0V5P3RvLpQZnlLrORJ5hVCoB1f7Knxbm%2BMvwpHibUfido3inUbXVbmx1a60fwRf8Ahs2dxE3zWs%2BmajcT3VpOildyTMGIZW2qrCvSa4T4B/APQPgDoWs2On%2BLdc8R6r4m8QS654n8TeJJbdr3Vb%2BSGGDzZBbQwwRhYLe3hVIoo0VIUAXOSe7oAKKKKAPjb9pb9rv9pb9nj4zQfDbWU%2BGfjW%2B1uCCbwjDp3ha9tJfBd5qXiHTPD2kTanK99MLqKdtXnBaJbORxY3Sxhl8wxe4/sq/F/wCJHxGHj/4ffGI6JP4q%2BGnjxvDWs6r4a06azsNT8zS9O1a3uIbeaeeS3za6pbo8bTS4kjkwxBGOFtv%2BCavhJrr4hv4h/aX%2BJ2s2/wASdeOuaxb6kdC8yz1KK4hn0%2B5trqLS0ulNg9vbi0jeaSKJYUDI/OfWPgH8BdD%2BAfh7VtNsvF%2BueJNW8Ra9NrXifxR4le2N/q99JHFD50wtYIIF2QQW8CJFFGixwRqF4JIB3VFFFADLn7T9mk%2Bx7PO2HyvNzt3Y4zjnGa%2BIPit%2B1z%2B2n8NPiJrnw2t7bwH4z17wxe%2BGrfVvHXgj4K6/q0fhy31Zrx72wl0qz1Ke7uZo4bKxuiYp0/d3ULSwIDE0n29dwyXFrLbw3UkDyRsqzxBS8ZIwGXcCuR1GQR6g189/Bj9gLxB8BPhtcfDT4d/t1fGKKO61Z9Tm1m8svCc%2BoS3cryyXM80z6EftMk7y7pJJxI%2BY02FAMEA9Z%2BAnxDsvit8HfD/xCsPiBo3ipNT08SPr/h/SZrC0u5ASshS1nmmltirqyNDJI7xsrKx3KQOvrkvgX8F/CX7Pvwv074U%2BCrm/uLKwluria%2B1W5E11fXd1cy3V1dTOFUNLNcTzSvtVV3SHaqrhR1tABVHxPD4kufDeoW/g3U7Gy1eSylXS7zU7B7q2guChEcksMcsTTRq2CyLJGWAIDqTuF6s3xjoN/wCKPC1/4d0vxbqWg3N5avFBrWjiA3Vi5HE0QuIpYi6nkCSN0OPmVhkUAfE3wp/bg/ay%2BN3xcv8A4AfCux%2BH8PjlH1uceNvFfwt1rRI9Q0nSLTRZPs02hXd%2Bmo2MrXniOKOOSeYoYVluI4nWVQfrb9mz4zaf%2B0d%2Bzp4B/aG0rSJNPtfHngrSvEVtYTSbnto72ziuViZsDJUShScDOK8i1D/gmp4O1HW7r4kP%2B0t8UofiJqE9yupfE%2B1vNIi1i6sZ7SC1l07y100WUVsY7W2YCK2jkWWFZRIJMufe/h94D8J/CzwFonwx8B6PHp2h%2BHNIttL0XT4iSltaW8SxQxLnJwqIqjPpQBr0UUUAcv8AGnUfHGjfC3Wtb%2BHPiGx0vVrCzN1Dfah4PvfECJHGQ8oGnWM8FzeSNErqkUMgcuy4Vz8jfFvw1/4KI/H7XPEPh7XfGFx4R8CeDdTl1H/hKPHl78DPEVxa6je2uuyaTF9qZL6NfDMstrbRExaozyW7ERv9zZX238TPBmu%2BPfCU3hzw38Utf8G3kksbxa/4ZisXu4NrAlVW/trmBgwBUh4m4Jxg4I8V1D/gnN4U1fwDe/CjVP2kPibceF/Edzd3PxC0N7jR9njKe7uXnu5L6UaaJ4fODiFo7KS1jEKKiooBJAPomiiigAooooAKKKKACiiigAooooAKKKKACiiigAooooAKKKKACiiigAooooAKKKKACiiigAooooAKKKKACiiigAooooAKKKKACiiigAooooAKKKKACiiigAooooAKKKKACiiigAooooAKKKKACiiigAooooAKKKKACiiigAooooAKKKKACiiigAooooAKKKKACiiigAooooAKKKKACiiigAooooAKKKKACiiigAooooAKKKKACiiigAooooAKKKKACiiigAooooAKKKKACiiigAooooAKKKKACiiigAooooAKKKKACiiigAooooAKKKKACiiigD//2Q%3D%3D\">"
      ]
     },
     "metadata": {},
     "output_type": "display_data"
    }
   ],
   "source": [
    "s.run(tf.global_variables_initializer())\n",
    "\n",
    "BATCH_SIZE = 512\n",
    "EPOCHS = 40\n",
    "\n",
    "# for logging the progress right here in Jupyter (for those who don't have TensorBoard)\n",
    "simpleTrainingCurves = matplotlib_utils.SimpleTrainingCurves(\"cross-entropy\", \"accuracy\")\n",
    "\n",
    "for epoch in range(EPOCHS):  # we finish an epoch when we've looked at all training samples\n",
    "    \n",
    "    batch_losses = []\n",
    "    for batch_start in range(0, X_train_flat.shape[0], BATCH_SIZE):  # data is already shuffled\n",
    "        _, batch_loss = s.run([step, loss], {input_X: X_train_flat[batch_start:batch_start+BATCH_SIZE], \n",
    "                                             input_y: y_train_oh[batch_start:batch_start+BATCH_SIZE]})\n",
    "        # collect batch losses, this is almost free as we need a forward pass for backprop anyway\n",
    "        batch_losses.append(batch_loss)\n",
    "\n",
    "    train_loss = np.mean(batch_losses)\n",
    "    val_loss = s.run(loss, {input_X: X_val_flat, input_y: y_val_oh})  # this part is usually small\n",
    "    train_accuracy = accuracy_score(y_train, s.run(classes, {input_X: X_train_flat}))  # this is slow and usually skipped\n",
    "    valid_accuracy = accuracy_score(y_val, s.run(classes, {input_X: X_val_flat}))  \n",
    "    simpleTrainingCurves.add(train_loss, val_loss, train_accuracy, valid_accuracy)"
   ]
  },
  {
   "cell_type": "markdown",
   "metadata": {},
   "source": [
    "# Submit a linear model"
   ]
  },
  {
   "cell_type": "code",
   "execution_count": 23,
   "metadata": {},
   "outputs": [],
   "source": [
    "## GRADED PART, DO NOT CHANGE!\n",
    "# Testing shapes \n",
    "grader.set_answer(\"9XaAS\", grading_utils.get_tensors_shapes_string([W, b, input_X, input_y, logits, probas, classes]))\n",
    "# Validation loss\n",
    "grader.set_answer(\"vmogZ\", s.run(loss, {input_X: X_val_flat, input_y: y_val_oh}))\n",
    "# Validation accuracy\n",
    "grader.set_answer(\"RMv95\", accuracy_score(y_val, s.run(classes, {input_X: X_val_flat})))"
   ]
  },
  {
   "cell_type": "code",
   "execution_count": 24,
   "metadata": {},
   "outputs": [
    {
     "name": "stdout",
     "output_type": "stream",
     "text": [
      "Submitted to Coursera platform. See results on assignment page!\n"
     ]
    }
   ],
   "source": [
    "# you can make submission with answers so far to check yourself at this stage\n",
    "grader.submit(COURSERA_EMAIL, COURSERA_TOKEN)"
   ]
  },
  {
   "cell_type": "markdown",
   "metadata": {},
   "source": [
    "# MLP with hidden layers"
   ]
  },
  {
   "cell_type": "markdown",
   "metadata": {},
   "source": [
    "Previously we've coded a dense layer with matrix multiplication by hand. \n",
    "But this is not convenient, you have to create a lot of variables and your code becomes a mess. \n",
    "In TensorFlow there's an easier way to make a dense layer:\n",
    "```python\n",
    "hidden1 = tf.layers.dense(inputs, 256, activation=tf.nn.sigmoid)\n",
    "```\n",
    "\n",
    "That will create all the necessary variables automatically.\n",
    "Here you can also choose an activation function (remember that we need it for a hidden layer!).\n",
    "\n",
    "Now define the MLP with 2 hidden layers and restart training with the cell above.\n",
    "\n",
    "You're aiming for ~0.97 validation accuracy here."
   ]
  },
  {
   "cell_type": "code",
   "execution_count": 27,
   "metadata": {
    "collapsed": true
   },
   "outputs": [],
   "source": [
    "# write the code here to get a new `step` operation and then run the cell with training loop above.\n",
    "# name your variables in the same way (e.g. logits, probas, classes, etc) for safety.\n",
    "### YOUR CODE HERE ###\n",
    "hidden1 = tf.layers.dense(input_X, 256, activation=tf.nn.sigmoid)\n",
    "hidden2 = tf.layers.dense(hidden1, 256, activation=tf.nn.sigmoid)\n",
    "out_layer = tf.layers.dense(hidden2, 10)\n",
    "\n",
    "logits = out_layer\n",
    "probas = tf.nn.softmax(logits)\n",
    "classes = tf.argmax(probas, axis=1)\n",
    "\n",
    "loss = tf.reduce_mean(tf.nn.softmax_cross_entropy_with_logits(logits=logits, labels=input_y))\n",
    "step = tf.train.AdamOptimizer().minimize(loss) "
   ]
  },
  {
   "cell_type": "markdown",
   "metadata": {},
   "source": [
    "# Submit the MLP with 2 hidden layers\n",
    "Run these cells after training the MLP with 2 hidden layers"
   ]
  },
  {
   "cell_type": "code",
   "execution_count": 30,
   "metadata": {
    "collapsed": true
   },
   "outputs": [],
   "source": [
    "## GRADED PART, DO NOT CHANGE!\n",
    "# Validation loss for MLP\n",
    "grader.set_answer(\"i8bgs\", s.run(loss, {input_X: X_val_flat, input_y: y_val_oh}))\n",
    "# Validation accuracy for MLP\n",
    "grader.set_answer(\"rE763\", accuracy_score(y_val, s.run(classes, {input_X: X_val_flat})))"
   ]
  },
  {
   "cell_type": "code",
   "execution_count": 31,
   "metadata": {},
   "outputs": [
    {
     "name": "stdout",
     "output_type": "stream",
     "text": [
      "Submitted to Coursera platform. See results on assignment page!\n"
     ]
    }
   ],
   "source": [
    "# you can make submission with answers so far to check yourself at this stage\n",
    "grader.submit(COURSERA_EMAIL, COURSERA_TOKEN)"
   ]
  },
  {
   "cell_type": "code",
   "execution_count": null,
   "metadata": {
    "collapsed": true
   },
   "outputs": [],
   "source": []
  }
 ],
 "metadata": {
  "kernelspec": {
   "display_name": "Python 3",
   "language": "python",
   "name": "python3"
  },
  "language_info": {
   "codemirror_mode": {
    "name": "ipython",
    "version": 3
   },
   "file_extension": ".py",
   "mimetype": "text/x-python",
   "name": "python",
   "nbconvert_exporter": "python",
   "pygments_lexer": "ipython3",
   "version": "3.6.0"
  }
 },
 "nbformat": 4,
 "nbformat_minor": 1
}
